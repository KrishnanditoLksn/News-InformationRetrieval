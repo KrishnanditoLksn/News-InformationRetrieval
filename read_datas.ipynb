{
 "cells": [
  {
   "cell_type": "code",
   "metadata": {
    "ExecuteTime": {
     "end_time": "2025-03-03T03:27:41.183413Z",
     "start_time": "2025-03-03T03:27:40.080720Z"
    }
   },
   "source": [
    "import re\n",
    "\n",
    "import nltk\n",
    "import pandas as pd\n",
    "from nltk import PorterStemmer\n",
    "from sklearn.feature_extraction.text import CountVectorizer,TfidfVectorizer\n",
    "from sklearn.metrics.pairwise import cosine_similarity\n",
    "\n",
    "nltk.download('punkt')\n",
    "nltk.download('wordnet')\n",
    "nltk.download('punkt_tab')\n",
    "nltk.download('omw-1.4')\n",
    "news_data = pd.read_csv('abcnews-date-text.csv')\n",
    "news_data"
   ],
   "outputs": [
    {
     "name": "stderr",
     "output_type": "stream",
     "text": [
      "[nltk_data] Downloading package punkt to\n",
      "[nltk_data]     C:\\Users\\asus\\AppData\\Roaming\\nltk_data...\n",
      "[nltk_data]   Package punkt is already up-to-date!\n",
      "[nltk_data] Downloading package wordnet to\n",
      "[nltk_data]     C:\\Users\\asus\\AppData\\Roaming\\nltk_data...\n",
      "[nltk_data]   Package wordnet is already up-to-date!\n",
      "[nltk_data] Downloading package punkt_tab to\n",
      "[nltk_data]     C:\\Users\\asus\\AppData\\Roaming\\nltk_data...\n",
      "[nltk_data]   Package punkt_tab is already up-to-date!\n",
      "[nltk_data] Downloading package omw-1.4 to\n",
      "[nltk_data]     C:\\Users\\asus\\AppData\\Roaming\\nltk_data...\n",
      "[nltk_data]   Package omw-1.4 is already up-to-date!\n"
     ]
    },
    {
     "data": {
      "text/plain": [
       "         publish_date                                      headline_text\n",
       "0            20030219  aba decides against community broadcasting lic...\n",
       "1            20030219     act fire witnesses must be aware of defamation\n",
       "2            20030219     a g calls for infrastructure protection summit\n",
       "3            20030219           air nz staff in aust strike for pay rise\n",
       "4            20030219      air nz strike to affect australian travellers\n",
       "...               ...                                                ...\n",
       "1244179      20211231  two aged care residents die as state records 2...\n",
       "1244180      20211231  victoria records 5;919 new cases and seven deaths\n",
       "1244181      20211231    wa delays adopting new close contact definition\n",
       "1244182      20211231  western ringtail possums found badly dehydrate...\n",
       "1244183      20211231  what makes you a close covid contact here are ...\n",
       "\n",
       "[1244184 rows x 2 columns]"
      ],
      "text/html": [
       "<div>\n",
       "<style scoped>\n",
       "    .dataframe tbody tr th:only-of-type {\n",
       "        vertical-align: middle;\n",
       "    }\n",
       "\n",
       "    .dataframe tbody tr th {\n",
       "        vertical-align: top;\n",
       "    }\n",
       "\n",
       "    .dataframe thead th {\n",
       "        text-align: right;\n",
       "    }\n",
       "</style>\n",
       "<table border=\"1\" class=\"dataframe\">\n",
       "  <thead>\n",
       "    <tr style=\"text-align: right;\">\n",
       "      <th></th>\n",
       "      <th>publish_date</th>\n",
       "      <th>headline_text</th>\n",
       "    </tr>\n",
       "  </thead>\n",
       "  <tbody>\n",
       "    <tr>\n",
       "      <th>0</th>\n",
       "      <td>20030219</td>\n",
       "      <td>aba decides against community broadcasting lic...</td>\n",
       "    </tr>\n",
       "    <tr>\n",
       "      <th>1</th>\n",
       "      <td>20030219</td>\n",
       "      <td>act fire witnesses must be aware of defamation</td>\n",
       "    </tr>\n",
       "    <tr>\n",
       "      <th>2</th>\n",
       "      <td>20030219</td>\n",
       "      <td>a g calls for infrastructure protection summit</td>\n",
       "    </tr>\n",
       "    <tr>\n",
       "      <th>3</th>\n",
       "      <td>20030219</td>\n",
       "      <td>air nz staff in aust strike for pay rise</td>\n",
       "    </tr>\n",
       "    <tr>\n",
       "      <th>4</th>\n",
       "      <td>20030219</td>\n",
       "      <td>air nz strike to affect australian travellers</td>\n",
       "    </tr>\n",
       "    <tr>\n",
       "      <th>...</th>\n",
       "      <td>...</td>\n",
       "      <td>...</td>\n",
       "    </tr>\n",
       "    <tr>\n",
       "      <th>1244179</th>\n",
       "      <td>20211231</td>\n",
       "      <td>two aged care residents die as state records 2...</td>\n",
       "    </tr>\n",
       "    <tr>\n",
       "      <th>1244180</th>\n",
       "      <td>20211231</td>\n",
       "      <td>victoria records 5;919 new cases and seven deaths</td>\n",
       "    </tr>\n",
       "    <tr>\n",
       "      <th>1244181</th>\n",
       "      <td>20211231</td>\n",
       "      <td>wa delays adopting new close contact definition</td>\n",
       "    </tr>\n",
       "    <tr>\n",
       "      <th>1244182</th>\n",
       "      <td>20211231</td>\n",
       "      <td>western ringtail possums found badly dehydrate...</td>\n",
       "    </tr>\n",
       "    <tr>\n",
       "      <th>1244183</th>\n",
       "      <td>20211231</td>\n",
       "      <td>what makes you a close covid contact here are ...</td>\n",
       "    </tr>\n",
       "  </tbody>\n",
       "</table>\n",
       "<p>1244184 rows × 2 columns</p>\n",
       "</div>"
      ]
     },
     "execution_count": 33,
     "metadata": {},
     "output_type": "execute_result"
    }
   ],
   "execution_count": 33
  },
  {
   "cell_type": "code",
   "metadata": {
    "ExecuteTime": {
     "end_time": "2025-03-03T03:02:39.266919Z",
     "start_time": "2025-03-03T03:02:39.260811Z"
    }
   },
   "source": [
    "news_data['headline_text']"
   ],
   "outputs": [
    {
     "data": {
      "text/plain": [
       "0          aba decides against community broadcasting lic...\n",
       "1             act fire witnesses must be aware of defamation\n",
       "2             a g calls for infrastructure protection summit\n",
       "3                   air nz staff in aust strike for pay rise\n",
       "4              air nz strike to affect australian travellers\n",
       "                                 ...                        \n",
       "1244179    two aged care residents die as state records 2...\n",
       "1244180    victoria records 5;919 new cases and seven deaths\n",
       "1244181      wa delays adopting new close contact definition\n",
       "1244182    western ringtail possums found badly dehydrate...\n",
       "1244183    what makes you a close covid contact here are ...\n",
       "Name: headline_text, Length: 1244184, dtype: object"
      ]
     },
     "execution_count": 2,
     "metadata": {},
     "output_type": "execute_result"
    }
   ],
   "execution_count": 2
  },
  {
   "cell_type": "code",
   "metadata": {
    "ExecuteTime": {
     "end_time": "2025-03-03T03:02:39.336648Z",
     "start_time": "2025-03-03T03:02:39.294824Z"
    }
   },
   "source": [
    "news_data['headline_text'].isnull()"
   ],
   "outputs": [
    {
     "data": {
      "text/plain": [
       "0          False\n",
       "1          False\n",
       "2          False\n",
       "3          False\n",
       "4          False\n",
       "           ...  \n",
       "1244179    False\n",
       "1244180    False\n",
       "1244181    False\n",
       "1244182    False\n",
       "1244183    False\n",
       "Name: headline_text, Length: 1244184, dtype: bool"
      ]
     },
     "execution_count": 3,
     "metadata": {},
     "output_type": "execute_result"
    }
   ],
   "execution_count": 3
  },
  {
   "cell_type": "code",
   "metadata": {
    "ExecuteTime": {
     "end_time": "2025-03-03T03:02:39.497938Z",
     "start_time": "2025-03-03T03:02:39.424767Z"
    }
   },
   "source": [
    "news_data['headline_text'].dropna()"
   ],
   "outputs": [
    {
     "data": {
      "text/plain": [
       "0          aba decides against community broadcasting lic...\n",
       "1             act fire witnesses must be aware of defamation\n",
       "2             a g calls for infrastructure protection summit\n",
       "3                   air nz staff in aust strike for pay rise\n",
       "4              air nz strike to affect australian travellers\n",
       "                                 ...                        \n",
       "1244179    two aged care residents die as state records 2...\n",
       "1244180    victoria records 5;919 new cases and seven deaths\n",
       "1244181      wa delays adopting new close contact definition\n",
       "1244182    western ringtail possums found badly dehydrate...\n",
       "1244183    what makes you a close covid contact here are ...\n",
       "Name: headline_text, Length: 1244184, dtype: object"
      ]
     },
     "execution_count": 4,
     "metadata": {},
     "output_type": "execute_result"
    }
   ],
   "execution_count": 4
  },
  {
   "cell_type": "code",
   "metadata": {
    "ExecuteTime": {
     "end_time": "2025-03-03T03:02:39.639495Z",
     "start_time": "2025-03-03T03:02:39.632644Z"
    }
   },
   "source": [
    "news_data['publish_date'].dropna()"
   ],
   "outputs": [
    {
     "data": {
      "text/plain": [
       "0          20030219\n",
       "1          20030219\n",
       "2          20030219\n",
       "3          20030219\n",
       "4          20030219\n",
       "             ...   \n",
       "1244179    20211231\n",
       "1244180    20211231\n",
       "1244181    20211231\n",
       "1244182    20211231\n",
       "1244183    20211231\n",
       "Name: publish_date, Length: 1244184, dtype: int64"
      ]
     },
     "execution_count": 5,
     "metadata": {},
     "output_type": "execute_result"
    }
   ],
   "execution_count": 5
  },
  {
   "cell_type": "code",
   "metadata": {
    "ExecuteTime": {
     "end_time": "2025-03-03T03:02:42.005936Z",
     "start_time": "2025-03-03T03:02:41.994941Z"
    }
   },
   "source": "news_data",
   "outputs": [
    {
     "data": {
      "text/plain": [
       "         publish_date                                      headline_text\n",
       "0            20030219  aba decides against community broadcasting lic...\n",
       "1            20030219     act fire witnesses must be aware of defamation\n",
       "2            20030219     a g calls for infrastructure protection summit\n",
       "3            20030219           air nz staff in aust strike for pay rise\n",
       "4            20030219      air nz strike to affect australian travellers\n",
       "...               ...                                                ...\n",
       "1244179      20211231  two aged care residents die as state records 2...\n",
       "1244180      20211231  victoria records 5;919 new cases and seven deaths\n",
       "1244181      20211231    wa delays adopting new close contact definition\n",
       "1244182      20211231  western ringtail possums found badly dehydrate...\n",
       "1244183      20211231  what makes you a close covid contact here are ...\n",
       "\n",
       "[1244184 rows x 2 columns]"
      ],
      "text/html": [
       "<div>\n",
       "<style scoped>\n",
       "    .dataframe tbody tr th:only-of-type {\n",
       "        vertical-align: middle;\n",
       "    }\n",
       "\n",
       "    .dataframe tbody tr th {\n",
       "        vertical-align: top;\n",
       "    }\n",
       "\n",
       "    .dataframe thead th {\n",
       "        text-align: right;\n",
       "    }\n",
       "</style>\n",
       "<table border=\"1\" class=\"dataframe\">\n",
       "  <thead>\n",
       "    <tr style=\"text-align: right;\">\n",
       "      <th></th>\n",
       "      <th>publish_date</th>\n",
       "      <th>headline_text</th>\n",
       "    </tr>\n",
       "  </thead>\n",
       "  <tbody>\n",
       "    <tr>\n",
       "      <th>0</th>\n",
       "      <td>20030219</td>\n",
       "      <td>aba decides against community broadcasting lic...</td>\n",
       "    </tr>\n",
       "    <tr>\n",
       "      <th>1</th>\n",
       "      <td>20030219</td>\n",
       "      <td>act fire witnesses must be aware of defamation</td>\n",
       "    </tr>\n",
       "    <tr>\n",
       "      <th>2</th>\n",
       "      <td>20030219</td>\n",
       "      <td>a g calls for infrastructure protection summit</td>\n",
       "    </tr>\n",
       "    <tr>\n",
       "      <th>3</th>\n",
       "      <td>20030219</td>\n",
       "      <td>air nz staff in aust strike for pay rise</td>\n",
       "    </tr>\n",
       "    <tr>\n",
       "      <th>4</th>\n",
       "      <td>20030219</td>\n",
       "      <td>air nz strike to affect australian travellers</td>\n",
       "    </tr>\n",
       "    <tr>\n",
       "      <th>...</th>\n",
       "      <td>...</td>\n",
       "      <td>...</td>\n",
       "    </tr>\n",
       "    <tr>\n",
       "      <th>1244179</th>\n",
       "      <td>20211231</td>\n",
       "      <td>two aged care residents die as state records 2...</td>\n",
       "    </tr>\n",
       "    <tr>\n",
       "      <th>1244180</th>\n",
       "      <td>20211231</td>\n",
       "      <td>victoria records 5;919 new cases and seven deaths</td>\n",
       "    </tr>\n",
       "    <tr>\n",
       "      <th>1244181</th>\n",
       "      <td>20211231</td>\n",
       "      <td>wa delays adopting new close contact definition</td>\n",
       "    </tr>\n",
       "    <tr>\n",
       "      <th>1244182</th>\n",
       "      <td>20211231</td>\n",
       "      <td>western ringtail possums found badly dehydrate...</td>\n",
       "    </tr>\n",
       "    <tr>\n",
       "      <th>1244183</th>\n",
       "      <td>20211231</td>\n",
       "      <td>what makes you a close covid contact here are ...</td>\n",
       "    </tr>\n",
       "  </tbody>\n",
       "</table>\n",
       "<p>1244184 rows × 2 columns</p>\n",
       "</div>"
      ]
     },
     "execution_count": 6,
     "metadata": {},
     "output_type": "execute_result"
    }
   ],
   "execution_count": 6
  },
  {
   "cell_type": "code",
   "metadata": {
    "ExecuteTime": {
     "end_time": "2025-03-03T03:02:42.173608Z",
     "start_time": "2025-03-03T03:02:42.162591Z"
    }
   },
   "source": [
    "news_data"
   ],
   "outputs": [
    {
     "data": {
      "text/plain": [
       "         publish_date                                      headline_text\n",
       "0            20030219  aba decides against community broadcasting lic...\n",
       "1            20030219     act fire witnesses must be aware of defamation\n",
       "2            20030219     a g calls for infrastructure protection summit\n",
       "3            20030219           air nz staff in aust strike for pay rise\n",
       "4            20030219      air nz strike to affect australian travellers\n",
       "...               ...                                                ...\n",
       "1244179      20211231  two aged care residents die as state records 2...\n",
       "1244180      20211231  victoria records 5;919 new cases and seven deaths\n",
       "1244181      20211231    wa delays adopting new close contact definition\n",
       "1244182      20211231  western ringtail possums found badly dehydrate...\n",
       "1244183      20211231  what makes you a close covid contact here are ...\n",
       "\n",
       "[1244184 rows x 2 columns]"
      ],
      "text/html": [
       "<div>\n",
       "<style scoped>\n",
       "    .dataframe tbody tr th:only-of-type {\n",
       "        vertical-align: middle;\n",
       "    }\n",
       "\n",
       "    .dataframe tbody tr th {\n",
       "        vertical-align: top;\n",
       "    }\n",
       "\n",
       "    .dataframe thead th {\n",
       "        text-align: right;\n",
       "    }\n",
       "</style>\n",
       "<table border=\"1\" class=\"dataframe\">\n",
       "  <thead>\n",
       "    <tr style=\"text-align: right;\">\n",
       "      <th></th>\n",
       "      <th>publish_date</th>\n",
       "      <th>headline_text</th>\n",
       "    </tr>\n",
       "  </thead>\n",
       "  <tbody>\n",
       "    <tr>\n",
       "      <th>0</th>\n",
       "      <td>20030219</td>\n",
       "      <td>aba decides against community broadcasting lic...</td>\n",
       "    </tr>\n",
       "    <tr>\n",
       "      <th>1</th>\n",
       "      <td>20030219</td>\n",
       "      <td>act fire witnesses must be aware of defamation</td>\n",
       "    </tr>\n",
       "    <tr>\n",
       "      <th>2</th>\n",
       "      <td>20030219</td>\n",
       "      <td>a g calls for infrastructure protection summit</td>\n",
       "    </tr>\n",
       "    <tr>\n",
       "      <th>3</th>\n",
       "      <td>20030219</td>\n",
       "      <td>air nz staff in aust strike for pay rise</td>\n",
       "    </tr>\n",
       "    <tr>\n",
       "      <th>4</th>\n",
       "      <td>20030219</td>\n",
       "      <td>air nz strike to affect australian travellers</td>\n",
       "    </tr>\n",
       "    <tr>\n",
       "      <th>...</th>\n",
       "      <td>...</td>\n",
       "      <td>...</td>\n",
       "    </tr>\n",
       "    <tr>\n",
       "      <th>1244179</th>\n",
       "      <td>20211231</td>\n",
       "      <td>two aged care residents die as state records 2...</td>\n",
       "    </tr>\n",
       "    <tr>\n",
       "      <th>1244180</th>\n",
       "      <td>20211231</td>\n",
       "      <td>victoria records 5;919 new cases and seven deaths</td>\n",
       "    </tr>\n",
       "    <tr>\n",
       "      <th>1244181</th>\n",
       "      <td>20211231</td>\n",
       "      <td>wa delays adopting new close contact definition</td>\n",
       "    </tr>\n",
       "    <tr>\n",
       "      <th>1244182</th>\n",
       "      <td>20211231</td>\n",
       "      <td>western ringtail possums found badly dehydrate...</td>\n",
       "    </tr>\n",
       "    <tr>\n",
       "      <th>1244183</th>\n",
       "      <td>20211231</td>\n",
       "      <td>what makes you a close covid contact here are ...</td>\n",
       "    </tr>\n",
       "  </tbody>\n",
       "</table>\n",
       "<p>1244184 rows × 2 columns</p>\n",
       "</div>"
      ]
     },
     "execution_count": 7,
     "metadata": {},
     "output_type": "execute_result"
    }
   ],
   "execution_count": 7
  },
  {
   "cell_type": "code",
   "metadata": {
    "ExecuteTime": {
     "end_time": "2025-03-03T03:02:46.466154Z",
     "start_time": "2025-03-03T03:02:46.457221Z"
    }
   },
   "source": "news_data.insert(0, \"doc_id\", range(1, 1 + len(news_data)))",
   "outputs": [],
   "execution_count": 8
  },
  {
   "cell_type": "code",
   "metadata": {
    "ExecuteTime": {
     "end_time": "2025-03-03T03:02:48.556896Z",
     "start_time": "2025-03-03T03:02:48.548326Z"
    }
   },
   "source": "news_data",
   "outputs": [
    {
     "data": {
      "text/plain": [
       "          doc_id  publish_date  \\\n",
       "0              1      20030219   \n",
       "1              2      20030219   \n",
       "2              3      20030219   \n",
       "3              4      20030219   \n",
       "4              5      20030219   \n",
       "...          ...           ...   \n",
       "1244179  1244180      20211231   \n",
       "1244180  1244181      20211231   \n",
       "1244181  1244182      20211231   \n",
       "1244182  1244183      20211231   \n",
       "1244183  1244184      20211231   \n",
       "\n",
       "                                             headline_text  \n",
       "0        aba decides against community broadcasting lic...  \n",
       "1           act fire witnesses must be aware of defamation  \n",
       "2           a g calls for infrastructure protection summit  \n",
       "3                 air nz staff in aust strike for pay rise  \n",
       "4            air nz strike to affect australian travellers  \n",
       "...                                                    ...  \n",
       "1244179  two aged care residents die as state records 2...  \n",
       "1244180  victoria records 5;919 new cases and seven deaths  \n",
       "1244181    wa delays adopting new close contact definition  \n",
       "1244182  western ringtail possums found badly dehydrate...  \n",
       "1244183  what makes you a close covid contact here are ...  \n",
       "\n",
       "[1244184 rows x 3 columns]"
      ],
      "text/html": [
       "<div>\n",
       "<style scoped>\n",
       "    .dataframe tbody tr th:only-of-type {\n",
       "        vertical-align: middle;\n",
       "    }\n",
       "\n",
       "    .dataframe tbody tr th {\n",
       "        vertical-align: top;\n",
       "    }\n",
       "\n",
       "    .dataframe thead th {\n",
       "        text-align: right;\n",
       "    }\n",
       "</style>\n",
       "<table border=\"1\" class=\"dataframe\">\n",
       "  <thead>\n",
       "    <tr style=\"text-align: right;\">\n",
       "      <th></th>\n",
       "      <th>doc_id</th>\n",
       "      <th>publish_date</th>\n",
       "      <th>headline_text</th>\n",
       "    </tr>\n",
       "  </thead>\n",
       "  <tbody>\n",
       "    <tr>\n",
       "      <th>0</th>\n",
       "      <td>1</td>\n",
       "      <td>20030219</td>\n",
       "      <td>aba decides against community broadcasting lic...</td>\n",
       "    </tr>\n",
       "    <tr>\n",
       "      <th>1</th>\n",
       "      <td>2</td>\n",
       "      <td>20030219</td>\n",
       "      <td>act fire witnesses must be aware of defamation</td>\n",
       "    </tr>\n",
       "    <tr>\n",
       "      <th>2</th>\n",
       "      <td>3</td>\n",
       "      <td>20030219</td>\n",
       "      <td>a g calls for infrastructure protection summit</td>\n",
       "    </tr>\n",
       "    <tr>\n",
       "      <th>3</th>\n",
       "      <td>4</td>\n",
       "      <td>20030219</td>\n",
       "      <td>air nz staff in aust strike for pay rise</td>\n",
       "    </tr>\n",
       "    <tr>\n",
       "      <th>4</th>\n",
       "      <td>5</td>\n",
       "      <td>20030219</td>\n",
       "      <td>air nz strike to affect australian travellers</td>\n",
       "    </tr>\n",
       "    <tr>\n",
       "      <th>...</th>\n",
       "      <td>...</td>\n",
       "      <td>...</td>\n",
       "      <td>...</td>\n",
       "    </tr>\n",
       "    <tr>\n",
       "      <th>1244179</th>\n",
       "      <td>1244180</td>\n",
       "      <td>20211231</td>\n",
       "      <td>two aged care residents die as state records 2...</td>\n",
       "    </tr>\n",
       "    <tr>\n",
       "      <th>1244180</th>\n",
       "      <td>1244181</td>\n",
       "      <td>20211231</td>\n",
       "      <td>victoria records 5;919 new cases and seven deaths</td>\n",
       "    </tr>\n",
       "    <tr>\n",
       "      <th>1244181</th>\n",
       "      <td>1244182</td>\n",
       "      <td>20211231</td>\n",
       "      <td>wa delays adopting new close contact definition</td>\n",
       "    </tr>\n",
       "    <tr>\n",
       "      <th>1244182</th>\n",
       "      <td>1244183</td>\n",
       "      <td>20211231</td>\n",
       "      <td>western ringtail possums found badly dehydrate...</td>\n",
       "    </tr>\n",
       "    <tr>\n",
       "      <th>1244183</th>\n",
       "      <td>1244184</td>\n",
       "      <td>20211231</td>\n",
       "      <td>what makes you a close covid contact here are ...</td>\n",
       "    </tr>\n",
       "  </tbody>\n",
       "</table>\n",
       "<p>1244184 rows × 3 columns</p>\n",
       "</div>"
      ]
     },
     "execution_count": 9,
     "metadata": {},
     "output_type": "execute_result"
    }
   ],
   "execution_count": 9
  },
  {
   "metadata": {
    "ExecuteTime": {
     "end_time": "2025-03-03T03:02:48.699542Z",
     "start_time": "2025-03-03T03:02:48.695031Z"
    }
   },
   "cell_type": "code",
   "source": [
    "\n",
    "# from nltk.tokenize import word_tokenize\n",
    "# def tokenize():\n",
    "#     news_data['headline_text'] = news_data.apply(lambda row :nltk.word_tokenize(row['headline_text']),axis=1)\n",
    "#\n",
    "# tokenize()"
   ],
   "outputs": [],
   "execution_count": 10
  },
  {
   "metadata": {
    "ExecuteTime": {
     "end_time": "2025-03-03T03:02:48.819003Z",
     "start_time": "2025-03-03T03:02:48.805665Z"
    }
   },
   "cell_type": "code",
   "source": "news_data",
   "outputs": [
    {
     "data": {
      "text/plain": [
       "          doc_id  publish_date  \\\n",
       "0              1      20030219   \n",
       "1              2      20030219   \n",
       "2              3      20030219   \n",
       "3              4      20030219   \n",
       "4              5      20030219   \n",
       "...          ...           ...   \n",
       "1244179  1244180      20211231   \n",
       "1244180  1244181      20211231   \n",
       "1244181  1244182      20211231   \n",
       "1244182  1244183      20211231   \n",
       "1244183  1244184      20211231   \n",
       "\n",
       "                                             headline_text  \n",
       "0        aba decides against community broadcasting lic...  \n",
       "1           act fire witnesses must be aware of defamation  \n",
       "2           a g calls for infrastructure protection summit  \n",
       "3                 air nz staff in aust strike for pay rise  \n",
       "4            air nz strike to affect australian travellers  \n",
       "...                                                    ...  \n",
       "1244179  two aged care residents die as state records 2...  \n",
       "1244180  victoria records 5;919 new cases and seven deaths  \n",
       "1244181    wa delays adopting new close contact definition  \n",
       "1244182  western ringtail possums found badly dehydrate...  \n",
       "1244183  what makes you a close covid contact here are ...  \n",
       "\n",
       "[1244184 rows x 3 columns]"
      ],
      "text/html": [
       "<div>\n",
       "<style scoped>\n",
       "    .dataframe tbody tr th:only-of-type {\n",
       "        vertical-align: middle;\n",
       "    }\n",
       "\n",
       "    .dataframe tbody tr th {\n",
       "        vertical-align: top;\n",
       "    }\n",
       "\n",
       "    .dataframe thead th {\n",
       "        text-align: right;\n",
       "    }\n",
       "</style>\n",
       "<table border=\"1\" class=\"dataframe\">\n",
       "  <thead>\n",
       "    <tr style=\"text-align: right;\">\n",
       "      <th></th>\n",
       "      <th>doc_id</th>\n",
       "      <th>publish_date</th>\n",
       "      <th>headline_text</th>\n",
       "    </tr>\n",
       "  </thead>\n",
       "  <tbody>\n",
       "    <tr>\n",
       "      <th>0</th>\n",
       "      <td>1</td>\n",
       "      <td>20030219</td>\n",
       "      <td>aba decides against community broadcasting lic...</td>\n",
       "    </tr>\n",
       "    <tr>\n",
       "      <th>1</th>\n",
       "      <td>2</td>\n",
       "      <td>20030219</td>\n",
       "      <td>act fire witnesses must be aware of defamation</td>\n",
       "    </tr>\n",
       "    <tr>\n",
       "      <th>2</th>\n",
       "      <td>3</td>\n",
       "      <td>20030219</td>\n",
       "      <td>a g calls for infrastructure protection summit</td>\n",
       "    </tr>\n",
       "    <tr>\n",
       "      <th>3</th>\n",
       "      <td>4</td>\n",
       "      <td>20030219</td>\n",
       "      <td>air nz staff in aust strike for pay rise</td>\n",
       "    </tr>\n",
       "    <tr>\n",
       "      <th>4</th>\n",
       "      <td>5</td>\n",
       "      <td>20030219</td>\n",
       "      <td>air nz strike to affect australian travellers</td>\n",
       "    </tr>\n",
       "    <tr>\n",
       "      <th>...</th>\n",
       "      <td>...</td>\n",
       "      <td>...</td>\n",
       "      <td>...</td>\n",
       "    </tr>\n",
       "    <tr>\n",
       "      <th>1244179</th>\n",
       "      <td>1244180</td>\n",
       "      <td>20211231</td>\n",
       "      <td>two aged care residents die as state records 2...</td>\n",
       "    </tr>\n",
       "    <tr>\n",
       "      <th>1244180</th>\n",
       "      <td>1244181</td>\n",
       "      <td>20211231</td>\n",
       "      <td>victoria records 5;919 new cases and seven deaths</td>\n",
       "    </tr>\n",
       "    <tr>\n",
       "      <th>1244181</th>\n",
       "      <td>1244182</td>\n",
       "      <td>20211231</td>\n",
       "      <td>wa delays adopting new close contact definition</td>\n",
       "    </tr>\n",
       "    <tr>\n",
       "      <th>1244182</th>\n",
       "      <td>1244183</td>\n",
       "      <td>20211231</td>\n",
       "      <td>western ringtail possums found badly dehydrate...</td>\n",
       "    </tr>\n",
       "    <tr>\n",
       "      <th>1244183</th>\n",
       "      <td>1244184</td>\n",
       "      <td>20211231</td>\n",
       "      <td>what makes you a close covid contact here are ...</td>\n",
       "    </tr>\n",
       "  </tbody>\n",
       "</table>\n",
       "<p>1244184 rows × 3 columns</p>\n",
       "</div>"
      ]
     },
     "execution_count": 11,
     "metadata": {},
     "output_type": "execute_result"
    }
   ],
   "execution_count": 11
  },
  {
   "metadata": {
    "ExecuteTime": {
     "end_time": "2025-03-03T03:02:50.972286Z",
     "start_time": "2025-03-03T03:02:50.965893Z"
    }
   },
   "cell_type": "code",
   "source": [
    "def stemmer_sentence(headline):\n",
    "    stemmer = PorterStemmer()\n",
    "    headline = re.sub(r'[^a-zA-Z0-9\\s]', '', headline).lower()\n",
    "    tokens = headline.split()\n",
    "    tokens = [stemmer.stem(w) for w in tokens if len(w) > 3]\n",
    "    return \" \".join(tokens)"
   ],
   "outputs": [],
   "execution_count": 12
  },
  {
   "metadata": {
    "ExecuteTime": {
     "end_time": "2025-03-03T03:04:28.948637Z",
     "start_time": "2025-03-03T03:02:51.033343Z"
    }
   },
   "cell_type": "code",
   "source": [
    "news_data['headline_text'] = news_data['headline_text'].apply(stemmer_sentence)\n",
    "\n",
    "news_data"
   ],
   "outputs": [
    {
     "data": {
      "text/plain": [
       "          doc_id  publish_date  \\\n",
       "0              1      20030219   \n",
       "1              2      20030219   \n",
       "2              3      20030219   \n",
       "3              4      20030219   \n",
       "4              5      20030219   \n",
       "...          ...           ...   \n",
       "1244179  1244180      20211231   \n",
       "1244180  1244181      20211231   \n",
       "1244181  1244182      20211231   \n",
       "1244182  1244183      20211231   \n",
       "1244183  1244184      20211231   \n",
       "\n",
       "                                             headline_text  \n",
       "0                    decid against commun broadcast licenc  \n",
       "1                                 fire wit must awar defam  \n",
       "2                        call infrastructur protect summit  \n",
       "3                                   staff aust strike rise  \n",
       "4                          strike affect australian travel  \n",
       "...                                                    ...  \n",
       "1244179                   age care resid state record 2093  \n",
       "1244180              victoria record 5919 case seven death  \n",
       "1244181                  delay adopt close contact definit  \n",
       "1244182  western ringtail possum found badli dehydr hea...  \n",
       "1244183            what make close covid contact here rule  \n",
       "\n",
       "[1244184 rows x 3 columns]"
      ],
      "text/html": [
       "<div>\n",
       "<style scoped>\n",
       "    .dataframe tbody tr th:only-of-type {\n",
       "        vertical-align: middle;\n",
       "    }\n",
       "\n",
       "    .dataframe tbody tr th {\n",
       "        vertical-align: top;\n",
       "    }\n",
       "\n",
       "    .dataframe thead th {\n",
       "        text-align: right;\n",
       "    }\n",
       "</style>\n",
       "<table border=\"1\" class=\"dataframe\">\n",
       "  <thead>\n",
       "    <tr style=\"text-align: right;\">\n",
       "      <th></th>\n",
       "      <th>doc_id</th>\n",
       "      <th>publish_date</th>\n",
       "      <th>headline_text</th>\n",
       "    </tr>\n",
       "  </thead>\n",
       "  <tbody>\n",
       "    <tr>\n",
       "      <th>0</th>\n",
       "      <td>1</td>\n",
       "      <td>20030219</td>\n",
       "      <td>decid against commun broadcast licenc</td>\n",
       "    </tr>\n",
       "    <tr>\n",
       "      <th>1</th>\n",
       "      <td>2</td>\n",
       "      <td>20030219</td>\n",
       "      <td>fire wit must awar defam</td>\n",
       "    </tr>\n",
       "    <tr>\n",
       "      <th>2</th>\n",
       "      <td>3</td>\n",
       "      <td>20030219</td>\n",
       "      <td>call infrastructur protect summit</td>\n",
       "    </tr>\n",
       "    <tr>\n",
       "      <th>3</th>\n",
       "      <td>4</td>\n",
       "      <td>20030219</td>\n",
       "      <td>staff aust strike rise</td>\n",
       "    </tr>\n",
       "    <tr>\n",
       "      <th>4</th>\n",
       "      <td>5</td>\n",
       "      <td>20030219</td>\n",
       "      <td>strike affect australian travel</td>\n",
       "    </tr>\n",
       "    <tr>\n",
       "      <th>...</th>\n",
       "      <td>...</td>\n",
       "      <td>...</td>\n",
       "      <td>...</td>\n",
       "    </tr>\n",
       "    <tr>\n",
       "      <th>1244179</th>\n",
       "      <td>1244180</td>\n",
       "      <td>20211231</td>\n",
       "      <td>age care resid state record 2093</td>\n",
       "    </tr>\n",
       "    <tr>\n",
       "      <th>1244180</th>\n",
       "      <td>1244181</td>\n",
       "      <td>20211231</td>\n",
       "      <td>victoria record 5919 case seven death</td>\n",
       "    </tr>\n",
       "    <tr>\n",
       "      <th>1244181</th>\n",
       "      <td>1244182</td>\n",
       "      <td>20211231</td>\n",
       "      <td>delay adopt close contact definit</td>\n",
       "    </tr>\n",
       "    <tr>\n",
       "      <th>1244182</th>\n",
       "      <td>1244183</td>\n",
       "      <td>20211231</td>\n",
       "      <td>western ringtail possum found badli dehydr hea...</td>\n",
       "    </tr>\n",
       "    <tr>\n",
       "      <th>1244183</th>\n",
       "      <td>1244184</td>\n",
       "      <td>20211231</td>\n",
       "      <td>what make close covid contact here rule</td>\n",
       "    </tr>\n",
       "  </tbody>\n",
       "</table>\n",
       "<p>1244184 rows × 3 columns</p>\n",
       "</div>"
      ]
     },
     "execution_count": 13,
     "metadata": {},
     "output_type": "execute_result"
    }
   ],
   "execution_count": 13
  },
  {
   "metadata": {
    "ExecuteTime": {
     "end_time": "2025-03-03T03:04:33.181144Z",
     "start_time": "2025-03-03T03:04:33.172743Z"
    }
   },
   "cell_type": "code",
   "source": "news_data[200:300]",
   "outputs": [
    {
     "data": {
      "text/plain": [
       "     doc_id  publish_date                             headline_text\n",
       "200     201      20030220    academ upbeat about higher educ review\n",
       "201     202      20030220            administr appoint land council\n",
       "202     203      20030220            declar lose parliamentari seat\n",
       "203     204      20030220          amcor record solid profit result\n",
       "204     205      20030220                america fourth race cancel\n",
       "..      ...           ...                                       ...\n",
       "295     296      20030220      indi meet like includ rain race talk\n",
       "296     297      20030220                injuri threaten unit final\n",
       "297     298      20030220        interest sought build stage bypass\n",
       "298     299      20030220         investig underway into qanta skid\n",
       "299     300      20030220  investor plan ethanol plant lament trial\n",
       "\n",
       "[100 rows x 3 columns]"
      ],
      "text/html": [
       "<div>\n",
       "<style scoped>\n",
       "    .dataframe tbody tr th:only-of-type {\n",
       "        vertical-align: middle;\n",
       "    }\n",
       "\n",
       "    .dataframe tbody tr th {\n",
       "        vertical-align: top;\n",
       "    }\n",
       "\n",
       "    .dataframe thead th {\n",
       "        text-align: right;\n",
       "    }\n",
       "</style>\n",
       "<table border=\"1\" class=\"dataframe\">\n",
       "  <thead>\n",
       "    <tr style=\"text-align: right;\">\n",
       "      <th></th>\n",
       "      <th>doc_id</th>\n",
       "      <th>publish_date</th>\n",
       "      <th>headline_text</th>\n",
       "    </tr>\n",
       "  </thead>\n",
       "  <tbody>\n",
       "    <tr>\n",
       "      <th>200</th>\n",
       "      <td>201</td>\n",
       "      <td>20030220</td>\n",
       "      <td>academ upbeat about higher educ review</td>\n",
       "    </tr>\n",
       "    <tr>\n",
       "      <th>201</th>\n",
       "      <td>202</td>\n",
       "      <td>20030220</td>\n",
       "      <td>administr appoint land council</td>\n",
       "    </tr>\n",
       "    <tr>\n",
       "      <th>202</th>\n",
       "      <td>203</td>\n",
       "      <td>20030220</td>\n",
       "      <td>declar lose parliamentari seat</td>\n",
       "    </tr>\n",
       "    <tr>\n",
       "      <th>203</th>\n",
       "      <td>204</td>\n",
       "      <td>20030220</td>\n",
       "      <td>amcor record solid profit result</td>\n",
       "    </tr>\n",
       "    <tr>\n",
       "      <th>204</th>\n",
       "      <td>205</td>\n",
       "      <td>20030220</td>\n",
       "      <td>america fourth race cancel</td>\n",
       "    </tr>\n",
       "    <tr>\n",
       "      <th>...</th>\n",
       "      <td>...</td>\n",
       "      <td>...</td>\n",
       "      <td>...</td>\n",
       "    </tr>\n",
       "    <tr>\n",
       "      <th>295</th>\n",
       "      <td>296</td>\n",
       "      <td>20030220</td>\n",
       "      <td>indi meet like includ rain race talk</td>\n",
       "    </tr>\n",
       "    <tr>\n",
       "      <th>296</th>\n",
       "      <td>297</td>\n",
       "      <td>20030220</td>\n",
       "      <td>injuri threaten unit final</td>\n",
       "    </tr>\n",
       "    <tr>\n",
       "      <th>297</th>\n",
       "      <td>298</td>\n",
       "      <td>20030220</td>\n",
       "      <td>interest sought build stage bypass</td>\n",
       "    </tr>\n",
       "    <tr>\n",
       "      <th>298</th>\n",
       "      <td>299</td>\n",
       "      <td>20030220</td>\n",
       "      <td>investig underway into qanta skid</td>\n",
       "    </tr>\n",
       "    <tr>\n",
       "      <th>299</th>\n",
       "      <td>300</td>\n",
       "      <td>20030220</td>\n",
       "      <td>investor plan ethanol plant lament trial</td>\n",
       "    </tr>\n",
       "  </tbody>\n",
       "</table>\n",
       "<p>100 rows × 3 columns</p>\n",
       "</div>"
      ]
     },
     "execution_count": 14,
     "metadata": {},
     "output_type": "execute_result"
    }
   ],
   "execution_count": 14
  },
  {
   "metadata": {
    "ExecuteTime": {
     "end_time": "2025-03-03T03:04:33.226434Z",
     "start_time": "2025-03-03T03:04:33.219002Z"
    }
   },
   "cell_type": "code",
   "source": [
    "tokenized_news = news_data\n",
    "tokenized_news['headline_text']"
   ],
   "outputs": [
    {
     "data": {
      "text/plain": [
       "0                      decid against commun broadcast licenc\n",
       "1                                   fire wit must awar defam\n",
       "2                          call infrastructur protect summit\n",
       "3                                     staff aust strike rise\n",
       "4                            strike affect australian travel\n",
       "                                 ...                        \n",
       "1244179                     age care resid state record 2093\n",
       "1244180                victoria record 5919 case seven death\n",
       "1244181                    delay adopt close contact definit\n",
       "1244182    western ringtail possum found badli dehydr hea...\n",
       "1244183              what make close covid contact here rule\n",
       "Name: headline_text, Length: 1244184, dtype: object"
      ]
     },
     "execution_count": 15,
     "metadata": {},
     "output_type": "execute_result"
    }
   ],
   "execution_count": 15
  },
  {
   "metadata": {
    "ExecuteTime": {
     "end_time": "2025-03-03T03:04:33.418589Z",
     "start_time": "2025-03-03T03:04:33.414303Z"
    }
   },
   "cell_type": "code",
   "source": [
    "# def tokenize():\n",
    "#     tokenized_news['headline_text'] = news_data.apply(lambda row: nltk.word_tokenize(row['headline_text']), axis=1)\n",
    "#\n",
    "#\n",
    "# tokenize()"
   ],
   "outputs": [],
   "execution_count": 16
  },
  {
   "metadata": {
    "ExecuteTime": {
     "end_time": "2025-03-03T03:04:35.605294Z",
     "start_time": "2025-03-03T03:04:35.594546Z"
    }
   },
   "cell_type": "code",
   "source": "tokenized_news",
   "outputs": [
    {
     "data": {
      "text/plain": [
       "          doc_id  publish_date  \\\n",
       "0              1      20030219   \n",
       "1              2      20030219   \n",
       "2              3      20030219   \n",
       "3              4      20030219   \n",
       "4              5      20030219   \n",
       "...          ...           ...   \n",
       "1244179  1244180      20211231   \n",
       "1244180  1244181      20211231   \n",
       "1244181  1244182      20211231   \n",
       "1244182  1244183      20211231   \n",
       "1244183  1244184      20211231   \n",
       "\n",
       "                                             headline_text  \n",
       "0                    decid against commun broadcast licenc  \n",
       "1                                 fire wit must awar defam  \n",
       "2                        call infrastructur protect summit  \n",
       "3                                   staff aust strike rise  \n",
       "4                          strike affect australian travel  \n",
       "...                                                    ...  \n",
       "1244179                   age care resid state record 2093  \n",
       "1244180              victoria record 5919 case seven death  \n",
       "1244181                  delay adopt close contact definit  \n",
       "1244182  western ringtail possum found badli dehydr hea...  \n",
       "1244183            what make close covid contact here rule  \n",
       "\n",
       "[1244184 rows x 3 columns]"
      ],
      "text/html": [
       "<div>\n",
       "<style scoped>\n",
       "    .dataframe tbody tr th:only-of-type {\n",
       "        vertical-align: middle;\n",
       "    }\n",
       "\n",
       "    .dataframe tbody tr th {\n",
       "        vertical-align: top;\n",
       "    }\n",
       "\n",
       "    .dataframe thead th {\n",
       "        text-align: right;\n",
       "    }\n",
       "</style>\n",
       "<table border=\"1\" class=\"dataframe\">\n",
       "  <thead>\n",
       "    <tr style=\"text-align: right;\">\n",
       "      <th></th>\n",
       "      <th>doc_id</th>\n",
       "      <th>publish_date</th>\n",
       "      <th>headline_text</th>\n",
       "    </tr>\n",
       "  </thead>\n",
       "  <tbody>\n",
       "    <tr>\n",
       "      <th>0</th>\n",
       "      <td>1</td>\n",
       "      <td>20030219</td>\n",
       "      <td>decid against commun broadcast licenc</td>\n",
       "    </tr>\n",
       "    <tr>\n",
       "      <th>1</th>\n",
       "      <td>2</td>\n",
       "      <td>20030219</td>\n",
       "      <td>fire wit must awar defam</td>\n",
       "    </tr>\n",
       "    <tr>\n",
       "      <th>2</th>\n",
       "      <td>3</td>\n",
       "      <td>20030219</td>\n",
       "      <td>call infrastructur protect summit</td>\n",
       "    </tr>\n",
       "    <tr>\n",
       "      <th>3</th>\n",
       "      <td>4</td>\n",
       "      <td>20030219</td>\n",
       "      <td>staff aust strike rise</td>\n",
       "    </tr>\n",
       "    <tr>\n",
       "      <th>4</th>\n",
       "      <td>5</td>\n",
       "      <td>20030219</td>\n",
       "      <td>strike affect australian travel</td>\n",
       "    </tr>\n",
       "    <tr>\n",
       "      <th>...</th>\n",
       "      <td>...</td>\n",
       "      <td>...</td>\n",
       "      <td>...</td>\n",
       "    </tr>\n",
       "    <tr>\n",
       "      <th>1244179</th>\n",
       "      <td>1244180</td>\n",
       "      <td>20211231</td>\n",
       "      <td>age care resid state record 2093</td>\n",
       "    </tr>\n",
       "    <tr>\n",
       "      <th>1244180</th>\n",
       "      <td>1244181</td>\n",
       "      <td>20211231</td>\n",
       "      <td>victoria record 5919 case seven death</td>\n",
       "    </tr>\n",
       "    <tr>\n",
       "      <th>1244181</th>\n",
       "      <td>1244182</td>\n",
       "      <td>20211231</td>\n",
       "      <td>delay adopt close contact definit</td>\n",
       "    </tr>\n",
       "    <tr>\n",
       "      <th>1244182</th>\n",
       "      <td>1244183</td>\n",
       "      <td>20211231</td>\n",
       "      <td>western ringtail possum found badli dehydr hea...</td>\n",
       "    </tr>\n",
       "    <tr>\n",
       "      <th>1244183</th>\n",
       "      <td>1244184</td>\n",
       "      <td>20211231</td>\n",
       "      <td>what make close covid contact here rule</td>\n",
       "    </tr>\n",
       "  </tbody>\n",
       "</table>\n",
       "<p>1244184 rows × 3 columns</p>\n",
       "</div>"
      ]
     },
     "execution_count": 17,
     "metadata": {},
     "output_type": "execute_result"
    }
   ],
   "execution_count": 17
  },
  {
   "metadata": {
    "ExecuteTime": {
     "end_time": "2025-03-03T03:18:38.010875Z",
     "start_time": "2025-03-03T03:18:29.795654Z"
    }
   },
   "cell_type": "code",
   "source": [
    "count_vectorizer = CountVectorizer(stop_words='english',max_features=4000)\n",
    "doc_term_matrix = count_vectorizer.fit_transform(news_data['headline_text'])\n",
    "\n"
   ],
   "outputs": [],
   "execution_count": 20
  },
  {
   "metadata": {
    "ExecuteTime": {
     "end_time": "2025-03-03T03:19:15.131611Z",
     "start_time": "2025-03-03T03:19:06.692185Z"
    }
   },
   "cell_type": "code",
   "source": [
    "tf_idf_vectorizer = TfidfVectorizer(stop_words='english',max_features=4000)\n",
    "document_term_matrix_tfidf = tf_idf_vectorizer.fit_transform(news_data['headline_text'])"
   ],
   "outputs": [],
   "execution_count": 21
  },
  {
   "metadata": {
    "ExecuteTime": {
     "end_time": "2025-03-03T03:19:17.724046Z",
     "start_time": "2025-03-03T03:19:17.715977Z"
    }
   },
   "cell_type": "code",
   "source": "doc_term_matrix",
   "outputs": [
    {
     "data": {
      "text/plain": [
       "<Compressed Sparse Row sparse matrix of dtype 'int64'\n",
       "\twith 4961266 stored elements and shape (1244184, 4000)>"
      ]
     },
     "execution_count": 22,
     "metadata": {},
     "output_type": "execute_result"
    }
   ],
   "execution_count": 22
  },
  {
   "metadata": {
    "ExecuteTime": {
     "end_time": "2025-03-03T03:19:20.935268Z",
     "start_time": "2025-03-03T03:19:20.928990Z"
    }
   },
   "cell_type": "code",
   "source": "document_term_matrix_tfidf",
   "outputs": [
    {
     "data": {
      "text/plain": [
       "<Compressed Sparse Row sparse matrix of dtype 'float64'\n",
       "\twith 4961266 stored elements and shape (1244184, 4000)>"
      ]
     },
     "execution_count": 23,
     "metadata": {},
     "output_type": "execute_result"
    }
   ],
   "execution_count": 23
  },
  {
   "metadata": {
    "ExecuteTime": {
     "end_time": "2025-03-03T03:22:55.493740Z",
     "start_time": "2025-03-03T03:22:55.466858Z"
    }
   },
   "cell_type": "code",
   "source": [
    "words = count_vectorizer.get_feature_names_out()\n",
    "word_counts = doc_term_matrix.sum(axis=0).A1\n",
    "word_counts_df = pd.DataFrame({'word':words,'count':word_counts})\n",
    "word_counts_df  = word_counts_df.sort_values(by='count',ascending=False)\n"
   ],
   "outputs": [],
   "execution_count": 25
  },
  {
   "metadata": {
    "ExecuteTime": {
     "end_time": "2025-03-03T03:22:58.615716Z",
     "start_time": "2025-03-03T03:22:58.606088Z"
    }
   },
   "cell_type": "code",
   "source": "word_counts_df",
   "outputs": [
    {
     "data": {
      "text/plain": [
       "           word  count\n",
       "2635     police  39852\n",
       "2383        new  33742\n",
       "2163        man  30762\n",
       "3093       says  23732\n",
       "885       court  18187\n",
       "...         ...    ...\n",
       "1268   expanded    278\n",
       "2593       pine    278\n",
       "88    adelaides    278\n",
       "388     bellamy    277\n",
       "2563     permit    277\n",
       "\n",
       "[4000 rows x 2 columns]"
      ],
      "text/html": [
       "<div>\n",
       "<style scoped>\n",
       "    .dataframe tbody tr th:only-of-type {\n",
       "        vertical-align: middle;\n",
       "    }\n",
       "\n",
       "    .dataframe tbody tr th {\n",
       "        vertical-align: top;\n",
       "    }\n",
       "\n",
       "    .dataframe thead th {\n",
       "        text-align: right;\n",
       "    }\n",
       "</style>\n",
       "<table border=\"1\" class=\"dataframe\">\n",
       "  <thead>\n",
       "    <tr style=\"text-align: right;\">\n",
       "      <th></th>\n",
       "      <th>word</th>\n",
       "      <th>count</th>\n",
       "    </tr>\n",
       "  </thead>\n",
       "  <tbody>\n",
       "    <tr>\n",
       "      <th>2635</th>\n",
       "      <td>police</td>\n",
       "      <td>39852</td>\n",
       "    </tr>\n",
       "    <tr>\n",
       "      <th>2383</th>\n",
       "      <td>new</td>\n",
       "      <td>33742</td>\n",
       "    </tr>\n",
       "    <tr>\n",
       "      <th>2163</th>\n",
       "      <td>man</td>\n",
       "      <td>30762</td>\n",
       "    </tr>\n",
       "    <tr>\n",
       "      <th>3093</th>\n",
       "      <td>says</td>\n",
       "      <td>23732</td>\n",
       "    </tr>\n",
       "    <tr>\n",
       "      <th>885</th>\n",
       "      <td>court</td>\n",
       "      <td>18187</td>\n",
       "    </tr>\n",
       "    <tr>\n",
       "      <th>...</th>\n",
       "      <td>...</td>\n",
       "      <td>...</td>\n",
       "    </tr>\n",
       "    <tr>\n",
       "      <th>1268</th>\n",
       "      <td>expanded</td>\n",
       "      <td>278</td>\n",
       "    </tr>\n",
       "    <tr>\n",
       "      <th>2593</th>\n",
       "      <td>pine</td>\n",
       "      <td>278</td>\n",
       "    </tr>\n",
       "    <tr>\n",
       "      <th>88</th>\n",
       "      <td>adelaides</td>\n",
       "      <td>278</td>\n",
       "    </tr>\n",
       "    <tr>\n",
       "      <th>388</th>\n",
       "      <td>bellamy</td>\n",
       "      <td>277</td>\n",
       "    </tr>\n",
       "    <tr>\n",
       "      <th>2563</th>\n",
       "      <td>permit</td>\n",
       "      <td>277</td>\n",
       "    </tr>\n",
       "  </tbody>\n",
       "</table>\n",
       "<p>4000 rows × 2 columns</p>\n",
       "</div>"
      ]
     },
     "execution_count": 26,
     "metadata": {},
     "output_type": "execute_result"
    }
   ],
   "execution_count": 26
  },
  {
   "metadata": {
    "ExecuteTime": {
     "end_time": "2025-03-03T03:29:44.898836Z",
     "start_time": "2025-03-03T03:29:44.890145Z"
    }
   },
   "cell_type": "code",
   "source": [
    "query = news_data['headline_text'][0]\n",
    "query_term_matrix_tfidf = tf_idf_vectorizer.fit_transform([query])"
   ],
   "outputs": [],
   "execution_count": 36
  },
  {
   "metadata": {
    "ExecuteTime": {
     "end_time": "2025-03-03T03:29:47.626003Z",
     "start_time": "2025-03-03T03:29:47.618848Z"
    }
   },
   "cell_type": "code",
   "source": "query_term_matrix_tfidf",
   "outputs": [
    {
     "data": {
      "text/plain": [
       "<Compressed Sparse Row sparse matrix of dtype 'float64'\n",
       "\twith 5 stored elements and shape (1, 5)>"
      ]
     },
     "execution_count": 37,
     "metadata": {},
     "output_type": "execute_result"
    }
   ],
   "execution_count": 37
  },
  {
   "metadata": {
    "ExecuteTime": {
     "end_time": "2025-03-03T03:30:07.280943Z",
     "start_time": "2025-03-03T03:30:07.274426Z"
    }
   },
   "cell_type": "code",
   "source": "print(query_term_matrix_tfidf)",
   "outputs": [
    {
     "name": "stdout",
     "output_type": "stream",
     "text": [
      "<Compressed Sparse Row sparse matrix of dtype 'float64'\n",
      "\twith 5 stored elements and shape (1, 5)>\n",
      "  Coords\tValues\n",
      "  (0, 0)\t0.4472135954999579\n",
      "  (0, 3)\t0.4472135954999579\n",
      "  (0, 2)\t0.4472135954999579\n",
      "  (0, 1)\t0.4472135954999579\n",
      "  (0, 4)\t0.4472135954999579\n"
     ]
    }
   ],
   "execution_count": 38
  },
  {
   "metadata": {},
   "cell_type": "code",
   "outputs": [],
   "execution_count": null,
   "source": ""
  }
 ],
 "metadata": {
  "kernelspec": {
   "display_name": "Python 3",
   "language": "python",
   "name": "python3"
  },
  "language_info": {
   "codemirror_mode": {
    "name": "ipython",
    "version": 3
   },
   "file_extension": ".py",
   "mimetype": "text/x-python",
   "name": "python",
   "nbconvert_exporter": "python",
   "pygments_lexer": "ipython3",
   "version": "3.12.8"
  }
 },
 "nbformat": 4,
 "nbformat_minor": 2
}
