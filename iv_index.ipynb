{
 "cells": [
  {
   "cell_type": "code",
   "id": "initial_id",
   "metadata": {
    "collapsed": true,
    "ExecuteTime": {
     "end_time": "2025-03-02T06:20:16.104258Z",
     "start_time": "2025-03-02T06:20:16.098127Z"
    }
   },
   "source": [
    "review_1 = \"Hello im an coder\"\n",
    "review_2 = \"im Why always me \"\n",
    "review_3 = \"Nothing gonna change \""
   ],
   "outputs": [],
   "execution_count": 6
  },
  {
   "metadata": {
    "ExecuteTime": {
     "end_time": "2025-03-02T06:20:17.027257Z",
     "start_time": "2025-03-02T06:20:17.019136Z"
    }
   },
   "cell_type": "code",
   "source": [
    "docs = [review_1, review_2, review_3]\n",
    "docs\n"
   ],
   "id": "cf0c3200ca1d9e3d",
   "outputs": [
    {
     "data": {
      "text/plain": [
       "['Hello im an coder', 'im Why always me ', 'Nothing gonna change ']"
      ]
     },
     "execution_count": 7,
     "metadata": {},
     "output_type": "execute_result"
    }
   ],
   "execution_count": 7
  },
  {
   "metadata": {
    "ExecuteTime": {
     "end_time": "2025-03-02T06:20:18.299228Z",
     "start_time": "2025-03-02T06:20:18.289960Z"
    }
   },
   "cell_type": "code",
   "source": [
    "unique_terms = {term for doc in docs for term in doc.split()}\n",
    "unique_terms"
   ],
   "id": "4bc24315f93885cd",
   "outputs": [
    {
     "data": {
      "text/plain": [
       "{'Hello',\n",
       " 'Nothing',\n",
       " 'Why',\n",
       " 'always',\n",
       " 'an',\n",
       " 'change',\n",
       " 'coder',\n",
       " 'gonna',\n",
       " 'im',\n",
       " 'me'}"
      ]
     },
     "execution_count": 8,
     "metadata": {},
     "output_type": "execute_result"
    }
   ],
   "execution_count": 8
  },
  {
   "metadata": {
    "ExecuteTime": {
     "end_time": "2025-03-02T06:20:55.565817Z",
     "start_time": "2025-03-02T06:20:55.553855Z"
    }
   },
   "cell_type": "code",
   "source": [
    "inverted_index = {}\n",
    "\n",
    "for i, doc in enumerate(docs):\n",
    "    for term in doc.split():\n",
    "        if term in inverted_index:\n",
    "            inverted_index[term].add(i)\n",
    "        else:\n",
    "            inverted_index[term] = {i}\n",
    "\n",
    "inverted_index"
   ],
   "id": "159b154ed6247680",
   "outputs": [
    {
     "data": {
      "text/plain": [
       "{'Hello': {0},\n",
       " 'im': {0, 1},\n",
       " 'an': {0},\n",
       " 'coder': {0},\n",
       " 'Why': {1},\n",
       " 'always': {1},\n",
       " 'me': {1},\n",
       " 'Nothing': {2},\n",
       " 'gonna': {2},\n",
       " 'change': {2}}"
      ]
     },
     "execution_count": 12,
     "metadata": {},
     "output_type": "execute_result"
    }
   ],
   "execution_count": 12
  },
  {
   "metadata": {
    "ExecuteTime": {
     "end_time": "2025-03-02T06:23:20.230334Z",
     "start_time": "2025-03-02T06:23:20.222157Z"
    }
   },
   "cell_type": "code",
   "source": [
    "posting_list = inverted_index['Hello']\n",
    "posting_list"
   ],
   "id": "4783750c2f1a043f",
   "outputs": [
    {
     "data": {
      "text/plain": [
       "{0}"
      ]
     },
     "execution_count": 16,
     "metadata": {},
     "output_type": "execute_result"
    }
   ],
   "execution_count": 16
  },
  {
   "metadata": {},
   "cell_type": "code",
   "outputs": [],
   "execution_count": null,
   "source": "",
   "id": "1cfd63bb28adb88a"
  }
 ],
 "metadata": {
  "kernelspec": {
   "display_name": "Python 3",
   "language": "python",
   "name": "python3"
  },
  "language_info": {
   "codemirror_mode": {
    "name": "ipython",
    "version": 2
   },
   "file_extension": ".py",
   "mimetype": "text/x-python",
   "name": "python",
   "nbconvert_exporter": "python",
   "pygments_lexer": "ipython2",
   "version": "2.7.6"
  }
 },
 "nbformat": 4,
 "nbformat_minor": 5
}
