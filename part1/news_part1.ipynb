{
 "cells": [
  {
   "cell_type": "code",
   "id": "initial_id",
   "metadata": {
    "collapsed": true,
    "ExecuteTime": {
     "end_time": "2025-03-11T10:32:02.963145Z",
     "start_time": "2025-03-11T10:31:58.639676Z"
    }
   },
   "source": [
    "import re\n",
    "\n",
    "import nltk\n",
    "import pandas as pd\n",
    "from nltk import PorterStemmer, word_tokenize\n",
    "from sklearn.feature_extraction.text import CountVectorizer, TfidfVectorizer\n",
    "from sklearn.metrics.pairwise import cosine_similarity\n",
    "\n",
    "nltk.download('punkt')\n",
    "nltk.download('wordnet')\n",
    "nltk.download('punkt_tab')\n",
    "nltk.download('omw-1.4')\n",
    "import numpy as np\n",
    "news_data = pd.read_csv('../abcnews-date-text.csv')"
   ],
   "outputs": [
    {
     "name": "stderr",
     "output_type": "stream",
     "text": [
      "[nltk_data] Downloading package punkt to\n",
      "[nltk_data]     C:\\Users\\asus\\AppData\\Roaming\\nltk_data...\n",
      "[nltk_data]   Package punkt is already up-to-date!\n",
      "[nltk_data] Downloading package wordnet to\n",
      "[nltk_data]     C:\\Users\\asus\\AppData\\Roaming\\nltk_data...\n",
      "[nltk_data]   Package wordnet is already up-to-date!\n",
      "[nltk_data] Downloading package punkt_tab to\n",
      "[nltk_data]     C:\\Users\\asus\\AppData\\Roaming\\nltk_data...\n",
      "[nltk_data]   Package punkt_tab is already up-to-date!\n",
      "[nltk_data] Downloading package omw-1.4 to\n",
      "[nltk_data]     C:\\Users\\asus\\AppData\\Roaming\\nltk_data...\n",
      "[nltk_data]   Package omw-1.4 is already up-to-date!\n"
     ]
    }
   ],
   "execution_count": 1
  },
  {
   "metadata": {
    "ExecuteTime": {
     "end_time": "2025-03-11T10:32:03.982431Z",
     "start_time": "2025-03-11T10:32:02.968243Z"
    }
   },
   "cell_type": "code",
   "source": [
    "news = pd.read_csv('../abcnews-date-text.csv')\n",
    "top_news_part1 = news[0:25]\n",
    "top_news_part2 = pd.DataFrame({'headline_text': top_news_part1['headline_text']})\n",
    "\n",
    "top_news_part2.to_csv('top_news_25.csv', index=False)\n",
    "\n"
   ],
   "id": "74c3e78a139eccfd",
   "outputs": [],
   "execution_count": 2
  },
  {
   "metadata": {
    "ExecuteTime": {
     "end_time": "2025-03-11T10:32:04.143823Z",
     "start_time": "2025-03-11T10:32:04.134861Z"
    }
   },
   "cell_type": "code",
   "source": "top_news_part1.duplicated() == True",
   "id": "55640fd7ea05f275",
   "outputs": [
    {
     "data": {
      "text/plain": [
       "0     False\n",
       "1     False\n",
       "2     False\n",
       "3     False\n",
       "4     False\n",
       "5     False\n",
       "6     False\n",
       "7     False\n",
       "8     False\n",
       "9     False\n",
       "10    False\n",
       "11    False\n",
       "12    False\n",
       "13    False\n",
       "14    False\n",
       "15    False\n",
       "16    False\n",
       "17    False\n",
       "18    False\n",
       "19    False\n",
       "20    False\n",
       "21    False\n",
       "22    False\n",
       "23    False\n",
       "24    False\n",
       "dtype: bool"
      ]
     },
     "execution_count": 3,
     "metadata": {},
     "output_type": "execute_result"
    }
   ],
   "execution_count": 3
  },
  {
   "metadata": {
    "ExecuteTime": {
     "end_time": "2025-03-11T10:32:04.186751Z",
     "start_time": "2025-03-11T10:32:04.182543Z"
    }
   },
   "cell_type": "code",
   "source": "top_news_part1 = top_news_part1.drop(columns='publish_date')",
   "id": "8fc3a5c8286b3545",
   "outputs": [],
   "execution_count": 4
  },
  {
   "metadata": {
    "ExecuteTime": {
     "end_time": "2025-03-11T10:32:04.238586Z",
     "start_time": "2025-03-11T10:32:04.230331Z"
    }
   },
   "cell_type": "code",
   "source": "top_news_part1",
   "id": "abd0bdce100cdb47",
   "outputs": [
    {
     "data": {
      "text/plain": [
       "                                        headline_text\n",
       "0   aba decides against community broadcasting lic...\n",
       "1      act fire witnesses must be aware of defamation\n",
       "2      a g calls for infrastructure protection summit\n",
       "3            air nz staff in aust strike for pay rise\n",
       "4       air nz strike to affect australian travellers\n",
       "5                   ambitious olsson wins triple jump\n",
       "6          antic delighted with record breaking barca\n",
       "7   aussie qualifier stosur wastes four memphis match\n",
       "8        aust addresses un security council over iraq\n",
       "9          australia is locked into war timetable opp\n",
       "10  australia to contribute 10 million in aid to iraq\n",
       "11  barca take record as robson celebrates birthda...\n",
       "12                         bathhouse plans move ahead\n",
       "13      big hopes for launceston cycling championship\n",
       "14             big plan to boost paroo water supplies\n",
       "15             blizzard buries united states in bills\n",
       "16     brigadier dismisses reports troops harassed in\n",
       "17     british combat troops arriving daily in kuwait\n",
       "18         bryant leads lakers to double overtime win\n",
       "19           bushfire victims urged to see centrelink\n",
       "20    businesses should prepare for terrorist attacks\n",
       "21    calleri avenges final defeat to eliminate massu\n",
       "22            call for ethanol blend fuel to go ahead\n",
       "23             carews freak goal leaves roma in ruins\n",
       "24                       cemeteries miss out on funds"
      ],
      "text/html": [
       "<div>\n",
       "<style scoped>\n",
       "    .dataframe tbody tr th:only-of-type {\n",
       "        vertical-align: middle;\n",
       "    }\n",
       "\n",
       "    .dataframe tbody tr th {\n",
       "        vertical-align: top;\n",
       "    }\n",
       "\n",
       "    .dataframe thead th {\n",
       "        text-align: right;\n",
       "    }\n",
       "</style>\n",
       "<table border=\"1\" class=\"dataframe\">\n",
       "  <thead>\n",
       "    <tr style=\"text-align: right;\">\n",
       "      <th></th>\n",
       "      <th>headline_text</th>\n",
       "    </tr>\n",
       "  </thead>\n",
       "  <tbody>\n",
       "    <tr>\n",
       "      <th>0</th>\n",
       "      <td>aba decides against community broadcasting lic...</td>\n",
       "    </tr>\n",
       "    <tr>\n",
       "      <th>1</th>\n",
       "      <td>act fire witnesses must be aware of defamation</td>\n",
       "    </tr>\n",
       "    <tr>\n",
       "      <th>2</th>\n",
       "      <td>a g calls for infrastructure protection summit</td>\n",
       "    </tr>\n",
       "    <tr>\n",
       "      <th>3</th>\n",
       "      <td>air nz staff in aust strike for pay rise</td>\n",
       "    </tr>\n",
       "    <tr>\n",
       "      <th>4</th>\n",
       "      <td>air nz strike to affect australian travellers</td>\n",
       "    </tr>\n",
       "    <tr>\n",
       "      <th>5</th>\n",
       "      <td>ambitious olsson wins triple jump</td>\n",
       "    </tr>\n",
       "    <tr>\n",
       "      <th>6</th>\n",
       "      <td>antic delighted with record breaking barca</td>\n",
       "    </tr>\n",
       "    <tr>\n",
       "      <th>7</th>\n",
       "      <td>aussie qualifier stosur wastes four memphis match</td>\n",
       "    </tr>\n",
       "    <tr>\n",
       "      <th>8</th>\n",
       "      <td>aust addresses un security council over iraq</td>\n",
       "    </tr>\n",
       "    <tr>\n",
       "      <th>9</th>\n",
       "      <td>australia is locked into war timetable opp</td>\n",
       "    </tr>\n",
       "    <tr>\n",
       "      <th>10</th>\n",
       "      <td>australia to contribute 10 million in aid to iraq</td>\n",
       "    </tr>\n",
       "    <tr>\n",
       "      <th>11</th>\n",
       "      <td>barca take record as robson celebrates birthda...</td>\n",
       "    </tr>\n",
       "    <tr>\n",
       "      <th>12</th>\n",
       "      <td>bathhouse plans move ahead</td>\n",
       "    </tr>\n",
       "    <tr>\n",
       "      <th>13</th>\n",
       "      <td>big hopes for launceston cycling championship</td>\n",
       "    </tr>\n",
       "    <tr>\n",
       "      <th>14</th>\n",
       "      <td>big plan to boost paroo water supplies</td>\n",
       "    </tr>\n",
       "    <tr>\n",
       "      <th>15</th>\n",
       "      <td>blizzard buries united states in bills</td>\n",
       "    </tr>\n",
       "    <tr>\n",
       "      <th>16</th>\n",
       "      <td>brigadier dismisses reports troops harassed in</td>\n",
       "    </tr>\n",
       "    <tr>\n",
       "      <th>17</th>\n",
       "      <td>british combat troops arriving daily in kuwait</td>\n",
       "    </tr>\n",
       "    <tr>\n",
       "      <th>18</th>\n",
       "      <td>bryant leads lakers to double overtime win</td>\n",
       "    </tr>\n",
       "    <tr>\n",
       "      <th>19</th>\n",
       "      <td>bushfire victims urged to see centrelink</td>\n",
       "    </tr>\n",
       "    <tr>\n",
       "      <th>20</th>\n",
       "      <td>businesses should prepare for terrorist attacks</td>\n",
       "    </tr>\n",
       "    <tr>\n",
       "      <th>21</th>\n",
       "      <td>calleri avenges final defeat to eliminate massu</td>\n",
       "    </tr>\n",
       "    <tr>\n",
       "      <th>22</th>\n",
       "      <td>call for ethanol blend fuel to go ahead</td>\n",
       "    </tr>\n",
       "    <tr>\n",
       "      <th>23</th>\n",
       "      <td>carews freak goal leaves roma in ruins</td>\n",
       "    </tr>\n",
       "    <tr>\n",
       "      <th>24</th>\n",
       "      <td>cemeteries miss out on funds</td>\n",
       "    </tr>\n",
       "  </tbody>\n",
       "</table>\n",
       "</div>"
      ]
     },
     "execution_count": 5,
     "metadata": {},
     "output_type": "execute_result"
    }
   ],
   "execution_count": 5
  },
  {
   "metadata": {
    "ExecuteTime": {
     "end_time": "2025-03-11T10:32:04.316314Z",
     "start_time": "2025-03-11T10:32:04.311337Z"
    }
   },
   "cell_type": "code",
   "source": "top_news_part1.insert(0, \"doc_id\", range(1, 1 + len(top_news_part1)))",
   "id": "45d7a6dd7fdce7ca",
   "outputs": [],
   "execution_count": 6
  },
  {
   "metadata": {
    "ExecuteTime": {
     "end_time": "2025-03-11T10:32:04.464737Z",
     "start_time": "2025-03-11T10:32:04.458220Z"
    }
   },
   "cell_type": "code",
   "source": "top_news_part1",
   "id": "eec8d63ed7505cb8",
   "outputs": [
    {
     "data": {
      "text/plain": [
       "    doc_id                                      headline_text\n",
       "0        1  aba decides against community broadcasting lic...\n",
       "1        2     act fire witnesses must be aware of defamation\n",
       "2        3     a g calls for infrastructure protection summit\n",
       "3        4           air nz staff in aust strike for pay rise\n",
       "4        5      air nz strike to affect australian travellers\n",
       "5        6                  ambitious olsson wins triple jump\n",
       "6        7         antic delighted with record breaking barca\n",
       "7        8  aussie qualifier stosur wastes four memphis match\n",
       "8        9       aust addresses un security council over iraq\n",
       "9       10         australia is locked into war timetable opp\n",
       "10      11  australia to contribute 10 million in aid to iraq\n",
       "11      12  barca take record as robson celebrates birthda...\n",
       "12      13                         bathhouse plans move ahead\n",
       "13      14      big hopes for launceston cycling championship\n",
       "14      15             big plan to boost paroo water supplies\n",
       "15      16             blizzard buries united states in bills\n",
       "16      17     brigadier dismisses reports troops harassed in\n",
       "17      18     british combat troops arriving daily in kuwait\n",
       "18      19         bryant leads lakers to double overtime win\n",
       "19      20           bushfire victims urged to see centrelink\n",
       "20      21    businesses should prepare for terrorist attacks\n",
       "21      22    calleri avenges final defeat to eliminate massu\n",
       "22      23            call for ethanol blend fuel to go ahead\n",
       "23      24             carews freak goal leaves roma in ruins\n",
       "24      25                       cemeteries miss out on funds"
      ],
      "text/html": [
       "<div>\n",
       "<style scoped>\n",
       "    .dataframe tbody tr th:only-of-type {\n",
       "        vertical-align: middle;\n",
       "    }\n",
       "\n",
       "    .dataframe tbody tr th {\n",
       "        vertical-align: top;\n",
       "    }\n",
       "\n",
       "    .dataframe thead th {\n",
       "        text-align: right;\n",
       "    }\n",
       "</style>\n",
       "<table border=\"1\" class=\"dataframe\">\n",
       "  <thead>\n",
       "    <tr style=\"text-align: right;\">\n",
       "      <th></th>\n",
       "      <th>doc_id</th>\n",
       "      <th>headline_text</th>\n",
       "    </tr>\n",
       "  </thead>\n",
       "  <tbody>\n",
       "    <tr>\n",
       "      <th>0</th>\n",
       "      <td>1</td>\n",
       "      <td>aba decides against community broadcasting lic...</td>\n",
       "    </tr>\n",
       "    <tr>\n",
       "      <th>1</th>\n",
       "      <td>2</td>\n",
       "      <td>act fire witnesses must be aware of defamation</td>\n",
       "    </tr>\n",
       "    <tr>\n",
       "      <th>2</th>\n",
       "      <td>3</td>\n",
       "      <td>a g calls for infrastructure protection summit</td>\n",
       "    </tr>\n",
       "    <tr>\n",
       "      <th>3</th>\n",
       "      <td>4</td>\n",
       "      <td>air nz staff in aust strike for pay rise</td>\n",
       "    </tr>\n",
       "    <tr>\n",
       "      <th>4</th>\n",
       "      <td>5</td>\n",
       "      <td>air nz strike to affect australian travellers</td>\n",
       "    </tr>\n",
       "    <tr>\n",
       "      <th>5</th>\n",
       "      <td>6</td>\n",
       "      <td>ambitious olsson wins triple jump</td>\n",
       "    </tr>\n",
       "    <tr>\n",
       "      <th>6</th>\n",
       "      <td>7</td>\n",
       "      <td>antic delighted with record breaking barca</td>\n",
       "    </tr>\n",
       "    <tr>\n",
       "      <th>7</th>\n",
       "      <td>8</td>\n",
       "      <td>aussie qualifier stosur wastes four memphis match</td>\n",
       "    </tr>\n",
       "    <tr>\n",
       "      <th>8</th>\n",
       "      <td>9</td>\n",
       "      <td>aust addresses un security council over iraq</td>\n",
       "    </tr>\n",
       "    <tr>\n",
       "      <th>9</th>\n",
       "      <td>10</td>\n",
       "      <td>australia is locked into war timetable opp</td>\n",
       "    </tr>\n",
       "    <tr>\n",
       "      <th>10</th>\n",
       "      <td>11</td>\n",
       "      <td>australia to contribute 10 million in aid to iraq</td>\n",
       "    </tr>\n",
       "    <tr>\n",
       "      <th>11</th>\n",
       "      <td>12</td>\n",
       "      <td>barca take record as robson celebrates birthda...</td>\n",
       "    </tr>\n",
       "    <tr>\n",
       "      <th>12</th>\n",
       "      <td>13</td>\n",
       "      <td>bathhouse plans move ahead</td>\n",
       "    </tr>\n",
       "    <tr>\n",
       "      <th>13</th>\n",
       "      <td>14</td>\n",
       "      <td>big hopes for launceston cycling championship</td>\n",
       "    </tr>\n",
       "    <tr>\n",
       "      <th>14</th>\n",
       "      <td>15</td>\n",
       "      <td>big plan to boost paroo water supplies</td>\n",
       "    </tr>\n",
       "    <tr>\n",
       "      <th>15</th>\n",
       "      <td>16</td>\n",
       "      <td>blizzard buries united states in bills</td>\n",
       "    </tr>\n",
       "    <tr>\n",
       "      <th>16</th>\n",
       "      <td>17</td>\n",
       "      <td>brigadier dismisses reports troops harassed in</td>\n",
       "    </tr>\n",
       "    <tr>\n",
       "      <th>17</th>\n",
       "      <td>18</td>\n",
       "      <td>british combat troops arriving daily in kuwait</td>\n",
       "    </tr>\n",
       "    <tr>\n",
       "      <th>18</th>\n",
       "      <td>19</td>\n",
       "      <td>bryant leads lakers to double overtime win</td>\n",
       "    </tr>\n",
       "    <tr>\n",
       "      <th>19</th>\n",
       "      <td>20</td>\n",
       "      <td>bushfire victims urged to see centrelink</td>\n",
       "    </tr>\n",
       "    <tr>\n",
       "      <th>20</th>\n",
       "      <td>21</td>\n",
       "      <td>businesses should prepare for terrorist attacks</td>\n",
       "    </tr>\n",
       "    <tr>\n",
       "      <th>21</th>\n",
       "      <td>22</td>\n",
       "      <td>calleri avenges final defeat to eliminate massu</td>\n",
       "    </tr>\n",
       "    <tr>\n",
       "      <th>22</th>\n",
       "      <td>23</td>\n",
       "      <td>call for ethanol blend fuel to go ahead</td>\n",
       "    </tr>\n",
       "    <tr>\n",
       "      <th>23</th>\n",
       "      <td>24</td>\n",
       "      <td>carews freak goal leaves roma in ruins</td>\n",
       "    </tr>\n",
       "    <tr>\n",
       "      <th>24</th>\n",
       "      <td>25</td>\n",
       "      <td>cemeteries miss out on funds</td>\n",
       "    </tr>\n",
       "  </tbody>\n",
       "</table>\n",
       "</div>"
      ]
     },
     "execution_count": 7,
     "metadata": {},
     "output_type": "execute_result"
    }
   ],
   "execution_count": 7
  },
  {
   "metadata": {
    "ExecuteTime": {
     "end_time": "2025-03-11T10:32:04.512226Z",
     "start_time": "2025-03-11T10:32:04.507517Z"
    }
   },
   "cell_type": "code",
   "source": [
    "def stemmer_sentence(headline):\n",
    "    stemmer = PorterStemmer()\n",
    "    headline = re.sub(r'[^a-zA-Z0-9\\s]', '', headline).lower()\n",
    "    tokens = word_tokenize(headline)\n",
    "    tokens = [stemmer.stem(w) for w in tokens if len(w) > 3]\n",
    "    return \" \".join(tokens)"
   ],
   "id": "ed7103fefe5e34bf",
   "outputs": [],
   "execution_count": 8
  },
  {
   "metadata": {
    "ExecuteTime": {
     "end_time": "2025-03-11T10:32:04.638024Z",
     "start_time": "2025-03-11T10:32:04.608056Z"
    }
   },
   "cell_type": "code",
   "source": "top_news_part1.loc[:, 'headline_text'] = top_news_part1['headline_text'].apply(stemmer_sentence)",
   "id": "c597adee0a844d4e",
   "outputs": [],
   "execution_count": 9
  },
  {
   "metadata": {
    "ExecuteTime": {
     "end_time": "2025-03-11T10:32:04.698460Z",
     "start_time": "2025-03-11T10:32:04.694167Z"
    }
   },
   "cell_type": "code",
   "source": "",
   "id": "760642ba5bb1062e",
   "outputs": [],
   "execution_count": null
  },
  {
   "metadata": {
    "ExecuteTime": {
     "end_time": "2025-03-11T10:32:04.773081Z",
     "start_time": "2025-03-11T10:32:04.765418Z"
    }
   },
   "cell_type": "code",
   "source": "top_news_part1",
   "id": "c1a552a7ab37d8b2",
   "outputs": [
    {
     "data": {
      "text/plain": [
       "    doc_id                                headline_text\n",
       "0        1        decid against commun broadcast licenc\n",
       "1        2                     fire wit must awar defam\n",
       "2        3            call infrastructur protect summit\n",
       "3        4                       staff aust strike rise\n",
       "4        5              strike affect australian travel\n",
       "5        6                 ambiti olsson win tripl jump\n",
       "6        7        antic delight with record break barca\n",
       "7        8  aussi qualifi stosur wast four memphi match\n",
       "8        9         aust address secur council over iraq\n",
       "9       10                    australia lock into timet\n",
       "10      11             australia contribut million iraq\n",
       "11      12     barca take record robson celebr birthday\n",
       "12      13                     bathhous plan move ahead\n",
       "13      14            hope launceston cycl championship\n",
       "14      15                plan boost paroo water suppli\n",
       "15      16                blizzard buri unit state bill\n",
       "16      17          brigadi dismiss report troop harass\n",
       "17      18      british combat troop arriv daili kuwait\n",
       "18      19              bryant lead laker doubl overtim\n",
       "19      20                bushfir victim urg centrelink\n",
       "20      21          busi should prepar terrorist attack\n",
       "21      22      calleri aveng final defeat elimin massu\n",
       "22      23                call ethanol blend fuel ahead\n",
       "23      24              carew freak goal leav roma ruin\n",
       "24      25                           cemeteri miss fund"
      ],
      "text/html": [
       "<div>\n",
       "<style scoped>\n",
       "    .dataframe tbody tr th:only-of-type {\n",
       "        vertical-align: middle;\n",
       "    }\n",
       "\n",
       "    .dataframe tbody tr th {\n",
       "        vertical-align: top;\n",
       "    }\n",
       "\n",
       "    .dataframe thead th {\n",
       "        text-align: right;\n",
       "    }\n",
       "</style>\n",
       "<table border=\"1\" class=\"dataframe\">\n",
       "  <thead>\n",
       "    <tr style=\"text-align: right;\">\n",
       "      <th></th>\n",
       "      <th>doc_id</th>\n",
       "      <th>headline_text</th>\n",
       "    </tr>\n",
       "  </thead>\n",
       "  <tbody>\n",
       "    <tr>\n",
       "      <th>0</th>\n",
       "      <td>1</td>\n",
       "      <td>decid against commun broadcast licenc</td>\n",
       "    </tr>\n",
       "    <tr>\n",
       "      <th>1</th>\n",
       "      <td>2</td>\n",
       "      <td>fire wit must awar defam</td>\n",
       "    </tr>\n",
       "    <tr>\n",
       "      <th>2</th>\n",
       "      <td>3</td>\n",
       "      <td>call infrastructur protect summit</td>\n",
       "    </tr>\n",
       "    <tr>\n",
       "      <th>3</th>\n",
       "      <td>4</td>\n",
       "      <td>staff aust strike rise</td>\n",
       "    </tr>\n",
       "    <tr>\n",
       "      <th>4</th>\n",
       "      <td>5</td>\n",
       "      <td>strike affect australian travel</td>\n",
       "    </tr>\n",
       "    <tr>\n",
       "      <th>5</th>\n",
       "      <td>6</td>\n",
       "      <td>ambiti olsson win tripl jump</td>\n",
       "    </tr>\n",
       "    <tr>\n",
       "      <th>6</th>\n",
       "      <td>7</td>\n",
       "      <td>antic delight with record break barca</td>\n",
       "    </tr>\n",
       "    <tr>\n",
       "      <th>7</th>\n",
       "      <td>8</td>\n",
       "      <td>aussi qualifi stosur wast four memphi match</td>\n",
       "    </tr>\n",
       "    <tr>\n",
       "      <th>8</th>\n",
       "      <td>9</td>\n",
       "      <td>aust address secur council over iraq</td>\n",
       "    </tr>\n",
       "    <tr>\n",
       "      <th>9</th>\n",
       "      <td>10</td>\n",
       "      <td>australia lock into timet</td>\n",
       "    </tr>\n",
       "    <tr>\n",
       "      <th>10</th>\n",
       "      <td>11</td>\n",
       "      <td>australia contribut million iraq</td>\n",
       "    </tr>\n",
       "    <tr>\n",
       "      <th>11</th>\n",
       "      <td>12</td>\n",
       "      <td>barca take record robson celebr birthday</td>\n",
       "    </tr>\n",
       "    <tr>\n",
       "      <th>12</th>\n",
       "      <td>13</td>\n",
       "      <td>bathhous plan move ahead</td>\n",
       "    </tr>\n",
       "    <tr>\n",
       "      <th>13</th>\n",
       "      <td>14</td>\n",
       "      <td>hope launceston cycl championship</td>\n",
       "    </tr>\n",
       "    <tr>\n",
       "      <th>14</th>\n",
       "      <td>15</td>\n",
       "      <td>plan boost paroo water suppli</td>\n",
       "    </tr>\n",
       "    <tr>\n",
       "      <th>15</th>\n",
       "      <td>16</td>\n",
       "      <td>blizzard buri unit state bill</td>\n",
       "    </tr>\n",
       "    <tr>\n",
       "      <th>16</th>\n",
       "      <td>17</td>\n",
       "      <td>brigadi dismiss report troop harass</td>\n",
       "    </tr>\n",
       "    <tr>\n",
       "      <th>17</th>\n",
       "      <td>18</td>\n",
       "      <td>british combat troop arriv daili kuwait</td>\n",
       "    </tr>\n",
       "    <tr>\n",
       "      <th>18</th>\n",
       "      <td>19</td>\n",
       "      <td>bryant lead laker doubl overtim</td>\n",
       "    </tr>\n",
       "    <tr>\n",
       "      <th>19</th>\n",
       "      <td>20</td>\n",
       "      <td>bushfir victim urg centrelink</td>\n",
       "    </tr>\n",
       "    <tr>\n",
       "      <th>20</th>\n",
       "      <td>21</td>\n",
       "      <td>busi should prepar terrorist attack</td>\n",
       "    </tr>\n",
       "    <tr>\n",
       "      <th>21</th>\n",
       "      <td>22</td>\n",
       "      <td>calleri aveng final defeat elimin massu</td>\n",
       "    </tr>\n",
       "    <tr>\n",
       "      <th>22</th>\n",
       "      <td>23</td>\n",
       "      <td>call ethanol blend fuel ahead</td>\n",
       "    </tr>\n",
       "    <tr>\n",
       "      <th>23</th>\n",
       "      <td>24</td>\n",
       "      <td>carew freak goal leav roma ruin</td>\n",
       "    </tr>\n",
       "    <tr>\n",
       "      <th>24</th>\n",
       "      <td>25</td>\n",
       "      <td>cemeteri miss fund</td>\n",
       "    </tr>\n",
       "  </tbody>\n",
       "</table>\n",
       "</div>"
      ]
     },
     "execution_count": 10,
     "metadata": {},
     "output_type": "execute_result"
    }
   ],
   "execution_count": 10
  },
  {
   "metadata": {},
   "cell_type": "markdown",
   "source": "# Transform corpus into vector",
   "id": "cc5949fe14575c0d"
  },
  {
   "metadata": {
    "ExecuteTime": {
     "end_time": "2025-03-11T10:32:04.865916Z",
     "start_time": "2025-03-11T10:32:04.860419Z"
    }
   },
   "cell_type": "code",
   "source": [
    "count_vectorizer = CountVectorizer(stop_words='english',\n",
    "                                   max_features=5000)\n",
    "doc_term_matrixed = count_vectorizer.fit_transform(top_news_part1['headline_text'])"
   ],
   "id": "85ee61a67e58bed0",
   "outputs": [],
   "execution_count": 11
  },
  {
   "metadata": {
    "ExecuteTime": {
     "end_time": "2025-03-11T10:32:04.915926Z",
     "start_time": "2025-03-11T10:32:04.909654Z"
    }
   },
   "cell_type": "code",
   "source": [
    "\n",
    "doc_term_matrixed.shape"
   ],
   "id": "8efabd68a5a90c2f",
   "outputs": [
    {
     "data": {
      "text/plain": [
       "(25, 101)"
      ]
     },
     "execution_count": 12,
     "metadata": {},
     "output_type": "execute_result"
    }
   ],
   "execution_count": 12
  },
  {
   "metadata": {},
   "cell_type": "markdown",
   "source": "# transform text documents into numerical vectors",
   "id": "d9ae3343300eb268"
  },
  {
   "metadata": {
    "ExecuteTime": {
     "end_time": "2025-03-11T10:32:04.988132Z",
     "start_time": "2025-03-11T10:32:04.981127Z"
    }
   },
   "cell_type": "code",
   "source": [
    "tf_idf_vectorizerd = TfidfVectorizer(stop_words='english', max_features=5000)\n",
    "doc_term_matrixed_tf_idf = tf_idf_vectorizerd.fit_transform(top_news_part1['headline_text'])\n",
    "print(doc_term_matrixed_tf_idf)"
   ],
   "id": "8405d71249d232d1",
   "outputs": [
    {
     "name": "stdout",
     "output_type": "stream",
     "text": [
      "<Compressed Sparse Row sparse matrix of dtype 'float64'\n",
      "\twith 110 stored elements and shape (25, 101)>\n",
      "  Coords\tValues\n",
      "  (0, 39)\t0.5\n",
      "  (0, 34)\t0.5\n",
      "  (0, 22)\t0.5\n",
      "  (0, 62)\t0.5\n",
      "  (1, 100)\t0.5773502691896257\n",
      "  (1, 12)\t0.5773502691896257\n",
      "  (1, 40)\t0.5773502691896257\n",
      "  (2, 54)\t0.5773502691896257\n",
      "  (2, 74)\t0.5773502691896257\n",
      "  (2, 87)\t0.5773502691896257\n",
      "  (3, 83)\t0.5291875165150637\n",
      "  (3, 8)\t0.4689995440985196\n",
      "  (3, 86)\t0.4689995440985196\n",
      "  (3, 78)\t0.5291875165150637\n",
      "  (4, 86)\t0.45551568364217737\n",
      "  (4, 1)\t0.5139732359945084\n",
      "  (4, 10)\t0.5139732359945084\n",
      "  (4, 91)\t0.5139732359945084\n",
      "  (5, 3)\t0.4472135954999579\n",
      "  (5, 69)\t0.4472135954999579\n",
      "  (5, 99)\t0.4472135954999579\n",
      "  (5, 92)\t0.4472135954999579\n",
      "  (5, 56)\t0.4472135954999579\n",
      "  (6, 4)\t0.4677328981134654\n",
      "  (6, 42)\t0.4677328981134654\n",
      "  :\t:\n",
      "  (19, 95)\t0.5\n",
      "  (19, 31)\t0.5\n",
      "  (20, 26)\t0.5\n",
      "  (20, 73)\t0.5\n",
      "  (20, 89)\t0.5\n",
      "  (20, 6)\t0.5\n",
      "  (21, 27)\t0.408248290463863\n",
      "  (21, 11)\t0.408248290463863\n",
      "  (21, 47)\t0.408248290463863\n",
      "  (21, 41)\t0.408248290463863\n",
      "  (21, 45)\t0.408248290463863\n",
      "  (21, 64)\t0.408248290463863\n",
      "  (22, 2)\t0.45551568364217737\n",
      "  (22, 46)\t0.5139732359945084\n",
      "  (22, 16)\t0.5139732359945084\n",
      "  (22, 49)\t0.5139732359945084\n",
      "  (23, 28)\t0.408248290463863\n",
      "  (23, 48)\t0.408248290463863\n",
      "  (23, 51)\t0.408248290463863\n",
      "  (23, 61)\t0.408248290463863\n",
      "  (23, 80)\t0.408248290463863\n",
      "  (23, 81)\t0.408248290463863\n",
      "  (24, 30)\t0.5773502691896257\n",
      "  (24, 68)\t0.5773502691896257\n",
      "  (24, 50)\t0.5773502691896257\n"
     ]
    }
   ],
   "execution_count": 13
  },
  {
   "metadata": {
    "ExecuteTime": {
     "end_time": "2025-03-11T10:32:05.075567Z",
     "start_time": "2025-03-11T10:32:05.065860Z"
    }
   },
   "cell_type": "code",
   "source": "doc_term_matrixed_tf_idf",
   "id": "c3f0d29e963aebd0",
   "outputs": [
    {
     "data": {
      "text/plain": [
       "<Compressed Sparse Row sparse matrix of dtype 'float64'\n",
       "\twith 110 stored elements and shape (25, 101)>"
      ]
     },
     "execution_count": 14,
     "metadata": {},
     "output_type": "execute_result"
    }
   ],
   "execution_count": 14
  },
  {
   "metadata": {
    "ExecuteTime": {
     "end_time": "2025-03-11T10:32:05.102446Z",
     "start_time": "2025-03-11T10:32:05.097415Z"
    }
   },
   "cell_type": "code",
   "source": [
    "kata = count_vectorizer.vocabulary_.keys()\n",
    "kata_counts = doc_term_matrixed.sum(axis=0).A1\n",
    "\n",
    "kata_counts_df = pd.DataFrame({'word': kata, 'count': kata_counts})\n",
    "kata_counts_df = kata_counts_df.sort_values(by='count', ascending=False)"
   ],
   "id": "f98010a4fc1eebfe",
   "outputs": [],
   "execution_count": 15
  },
  {
   "metadata": {
    "ExecuteTime": {
     "end_time": "2025-03-11T10:32:05.144126Z",
     "start_time": "2025-03-11T10:32:05.135476Z"
    }
   },
   "cell_type": "code",
   "source": "kata_counts_df",
   "id": "bdc889933c1d8a20",
   "outputs": [
    {
     "data": {
      "text/plain": [
       "          word  count\n",
       "2    broadcast      2\n",
       "9       summit      2\n",
       "13        rise      2\n",
       "8      protect      2\n",
       "55      suppli      2\n",
       "..         ...    ...\n",
       "96        roma      1\n",
       "97        ruin      1\n",
       "98    cemeteri      1\n",
       "99        miss      1\n",
       "100       fund      1\n",
       "\n",
       "[101 rows x 2 columns]"
      ],
      "text/html": [
       "<div>\n",
       "<style scoped>\n",
       "    .dataframe tbody tr th:only-of-type {\n",
       "        vertical-align: middle;\n",
       "    }\n",
       "\n",
       "    .dataframe tbody tr th {\n",
       "        vertical-align: top;\n",
       "    }\n",
       "\n",
       "    .dataframe thead th {\n",
       "        text-align: right;\n",
       "    }\n",
       "</style>\n",
       "<table border=\"1\" class=\"dataframe\">\n",
       "  <thead>\n",
       "    <tr style=\"text-align: right;\">\n",
       "      <th></th>\n",
       "      <th>word</th>\n",
       "      <th>count</th>\n",
       "    </tr>\n",
       "  </thead>\n",
       "  <tbody>\n",
       "    <tr>\n",
       "      <th>2</th>\n",
       "      <td>broadcast</td>\n",
       "      <td>2</td>\n",
       "    </tr>\n",
       "    <tr>\n",
       "      <th>9</th>\n",
       "      <td>summit</td>\n",
       "      <td>2</td>\n",
       "    </tr>\n",
       "    <tr>\n",
       "      <th>13</th>\n",
       "      <td>rise</td>\n",
       "      <td>2</td>\n",
       "    </tr>\n",
       "    <tr>\n",
       "      <th>8</th>\n",
       "      <td>protect</td>\n",
       "      <td>2</td>\n",
       "    </tr>\n",
       "    <tr>\n",
       "      <th>55</th>\n",
       "      <td>suppli</td>\n",
       "      <td>2</td>\n",
       "    </tr>\n",
       "    <tr>\n",
       "      <th>...</th>\n",
       "      <td>...</td>\n",
       "      <td>...</td>\n",
       "    </tr>\n",
       "    <tr>\n",
       "      <th>96</th>\n",
       "      <td>roma</td>\n",
       "      <td>1</td>\n",
       "    </tr>\n",
       "    <tr>\n",
       "      <th>97</th>\n",
       "      <td>ruin</td>\n",
       "      <td>1</td>\n",
       "    </tr>\n",
       "    <tr>\n",
       "      <th>98</th>\n",
       "      <td>cemeteri</td>\n",
       "      <td>1</td>\n",
       "    </tr>\n",
       "    <tr>\n",
       "      <th>99</th>\n",
       "      <td>miss</td>\n",
       "      <td>1</td>\n",
       "    </tr>\n",
       "    <tr>\n",
       "      <th>100</th>\n",
       "      <td>fund</td>\n",
       "      <td>1</td>\n",
       "    </tr>\n",
       "  </tbody>\n",
       "</table>\n",
       "<p>101 rows × 2 columns</p>\n",
       "</div>"
      ]
     },
     "execution_count": 16,
     "metadata": {},
     "output_type": "execute_result"
    }
   ],
   "execution_count": 16
  },
  {
   "metadata": {
    "ExecuteTime": {
     "end_time": "2025-03-11T10:32:05.230738Z",
     "start_time": "2025-03-11T10:32:05.224222Z"
    }
   },
   "cell_type": "code",
   "source": [
    "headline_query_1 = top_news_part1['headline_text'][1]\n",
    "headline_query_2 = top_news_part1['headline_text'][2]\n",
    "query_random = \"Australian police sentenced two years\"\n",
    "headline_query_3 =\"war and violence\"\n",
    "\n",
    "headline_query_1"
   ],
   "id": "857937c3ced7a53f",
   "outputs": [
    {
     "data": {
      "text/plain": [
       "'fire wit must awar defam'"
      ]
     },
     "execution_count": 17,
     "metadata": {},
     "output_type": "execute_result"
    }
   ],
   "execution_count": 17
  },
  {
   "metadata": {
    "ExecuteTime": {
     "end_time": "2025-03-11T10:32:05.323934Z",
     "start_time": "2025-03-11T10:32:05.314478Z"
    }
   },
   "cell_type": "code",
   "source": "top_news_part1",
   "id": "6697cd23c9ac630d",
   "outputs": [
    {
     "data": {
      "text/plain": [
       "    doc_id                                headline_text\n",
       "0        1        decid against commun broadcast licenc\n",
       "1        2                     fire wit must awar defam\n",
       "2        3            call infrastructur protect summit\n",
       "3        4                       staff aust strike rise\n",
       "4        5              strike affect australian travel\n",
       "5        6                 ambiti olsson win tripl jump\n",
       "6        7        antic delight with record break barca\n",
       "7        8  aussi qualifi stosur wast four memphi match\n",
       "8        9         aust address secur council over iraq\n",
       "9       10                    australia lock into timet\n",
       "10      11             australia contribut million iraq\n",
       "11      12     barca take record robson celebr birthday\n",
       "12      13                     bathhous plan move ahead\n",
       "13      14            hope launceston cycl championship\n",
       "14      15                plan boost paroo water suppli\n",
       "15      16                blizzard buri unit state bill\n",
       "16      17          brigadi dismiss report troop harass\n",
       "17      18      british combat troop arriv daili kuwait\n",
       "18      19              bryant lead laker doubl overtim\n",
       "19      20                bushfir victim urg centrelink\n",
       "20      21          busi should prepar terrorist attack\n",
       "21      22      calleri aveng final defeat elimin massu\n",
       "22      23                call ethanol blend fuel ahead\n",
       "23      24              carew freak goal leav roma ruin\n",
       "24      25                           cemeteri miss fund"
      ],
      "text/html": [
       "<div>\n",
       "<style scoped>\n",
       "    .dataframe tbody tr th:only-of-type {\n",
       "        vertical-align: middle;\n",
       "    }\n",
       "\n",
       "    .dataframe tbody tr th {\n",
       "        vertical-align: top;\n",
       "    }\n",
       "\n",
       "    .dataframe thead th {\n",
       "        text-align: right;\n",
       "    }\n",
       "</style>\n",
       "<table border=\"1\" class=\"dataframe\">\n",
       "  <thead>\n",
       "    <tr style=\"text-align: right;\">\n",
       "      <th></th>\n",
       "      <th>doc_id</th>\n",
       "      <th>headline_text</th>\n",
       "    </tr>\n",
       "  </thead>\n",
       "  <tbody>\n",
       "    <tr>\n",
       "      <th>0</th>\n",
       "      <td>1</td>\n",
       "      <td>decid against commun broadcast licenc</td>\n",
       "    </tr>\n",
       "    <tr>\n",
       "      <th>1</th>\n",
       "      <td>2</td>\n",
       "      <td>fire wit must awar defam</td>\n",
       "    </tr>\n",
       "    <tr>\n",
       "      <th>2</th>\n",
       "      <td>3</td>\n",
       "      <td>call infrastructur protect summit</td>\n",
       "    </tr>\n",
       "    <tr>\n",
       "      <th>3</th>\n",
       "      <td>4</td>\n",
       "      <td>staff aust strike rise</td>\n",
       "    </tr>\n",
       "    <tr>\n",
       "      <th>4</th>\n",
       "      <td>5</td>\n",
       "      <td>strike affect australian travel</td>\n",
       "    </tr>\n",
       "    <tr>\n",
       "      <th>5</th>\n",
       "      <td>6</td>\n",
       "      <td>ambiti olsson win tripl jump</td>\n",
       "    </tr>\n",
       "    <tr>\n",
       "      <th>6</th>\n",
       "      <td>7</td>\n",
       "      <td>antic delight with record break barca</td>\n",
       "    </tr>\n",
       "    <tr>\n",
       "      <th>7</th>\n",
       "      <td>8</td>\n",
       "      <td>aussi qualifi stosur wast four memphi match</td>\n",
       "    </tr>\n",
       "    <tr>\n",
       "      <th>8</th>\n",
       "      <td>9</td>\n",
       "      <td>aust address secur council over iraq</td>\n",
       "    </tr>\n",
       "    <tr>\n",
       "      <th>9</th>\n",
       "      <td>10</td>\n",
       "      <td>australia lock into timet</td>\n",
       "    </tr>\n",
       "    <tr>\n",
       "      <th>10</th>\n",
       "      <td>11</td>\n",
       "      <td>australia contribut million iraq</td>\n",
       "    </tr>\n",
       "    <tr>\n",
       "      <th>11</th>\n",
       "      <td>12</td>\n",
       "      <td>barca take record robson celebr birthday</td>\n",
       "    </tr>\n",
       "    <tr>\n",
       "      <th>12</th>\n",
       "      <td>13</td>\n",
       "      <td>bathhous plan move ahead</td>\n",
       "    </tr>\n",
       "    <tr>\n",
       "      <th>13</th>\n",
       "      <td>14</td>\n",
       "      <td>hope launceston cycl championship</td>\n",
       "    </tr>\n",
       "    <tr>\n",
       "      <th>14</th>\n",
       "      <td>15</td>\n",
       "      <td>plan boost paroo water suppli</td>\n",
       "    </tr>\n",
       "    <tr>\n",
       "      <th>15</th>\n",
       "      <td>16</td>\n",
       "      <td>blizzard buri unit state bill</td>\n",
       "    </tr>\n",
       "    <tr>\n",
       "      <th>16</th>\n",
       "      <td>17</td>\n",
       "      <td>brigadi dismiss report troop harass</td>\n",
       "    </tr>\n",
       "    <tr>\n",
       "      <th>17</th>\n",
       "      <td>18</td>\n",
       "      <td>british combat troop arriv daili kuwait</td>\n",
       "    </tr>\n",
       "    <tr>\n",
       "      <th>18</th>\n",
       "      <td>19</td>\n",
       "      <td>bryant lead laker doubl overtim</td>\n",
       "    </tr>\n",
       "    <tr>\n",
       "      <th>19</th>\n",
       "      <td>20</td>\n",
       "      <td>bushfir victim urg centrelink</td>\n",
       "    </tr>\n",
       "    <tr>\n",
       "      <th>20</th>\n",
       "      <td>21</td>\n",
       "      <td>busi should prepar terrorist attack</td>\n",
       "    </tr>\n",
       "    <tr>\n",
       "      <th>21</th>\n",
       "      <td>22</td>\n",
       "      <td>calleri aveng final defeat elimin massu</td>\n",
       "    </tr>\n",
       "    <tr>\n",
       "      <th>22</th>\n",
       "      <td>23</td>\n",
       "      <td>call ethanol blend fuel ahead</td>\n",
       "    </tr>\n",
       "    <tr>\n",
       "      <th>23</th>\n",
       "      <td>24</td>\n",
       "      <td>carew freak goal leav roma ruin</td>\n",
       "    </tr>\n",
       "    <tr>\n",
       "      <th>24</th>\n",
       "      <td>25</td>\n",
       "      <td>cemeteri miss fund</td>\n",
       "    </tr>\n",
       "  </tbody>\n",
       "</table>\n",
       "</div>"
      ]
     },
     "execution_count": 18,
     "metadata": {},
     "output_type": "execute_result"
    }
   ],
   "execution_count": 18
  },
  {
   "metadata": {
    "ExecuteTime": {
     "end_time": "2025-03-11T10:32:05.457952Z",
     "start_time": "2025-03-11T10:32:05.449441Z"
    }
   },
   "cell_type": "code",
   "source": [
    "query_vector_1 = tf_idf_vectorizerd.transform([headline_query_1])\n",
    "query_vector_2 = tf_idf_vectorizerd.transform([headline_query_2])\n",
    "query_vector_3 = tf_idf_vectorizerd.transform([headline_query_3])\n",
    "print(query_vector_1)"
   ],
   "id": "b87aaf2749fb972",
   "outputs": [
    {
     "name": "stdout",
     "output_type": "stream",
     "text": [
      "<Compressed Sparse Row sparse matrix of dtype 'float64'\n",
      "\twith 3 stored elements and shape (1, 101)>\n",
      "  Coords\tValues\n",
      "  (0, 12)\t0.5773502691896257\n",
      "  (0, 40)\t0.5773502691896257\n",
      "  (0, 100)\t0.5773502691896257\n"
     ]
    }
   ],
   "execution_count": 19
  },
  {
   "metadata": {
    "ExecuteTime": {
     "end_time": "2025-03-11T10:32:05.595975Z",
     "start_time": "2025-03-11T10:32:05.590681Z"
    }
   },
   "cell_type": "code",
   "source": [
    "# Calculate cosine similarity between query vector and all documents\n",
    "query_1_similarities = cosine_similarity(query_vector_1, doc_term_matrixed).flatten()\n"
   ],
   "id": "73233d4939f769f0",
   "outputs": [],
   "execution_count": 20
  },
  {
   "metadata": {
    "ExecuteTime": {
     "end_time": "2025-03-11T10:33:29.001689Z",
     "start_time": "2025-03-11T10:33:28.996065Z"
    }
   },
   "cell_type": "code",
   "source": "print(top_news_part1.count())",
   "id": "e22753b89e213825",
   "outputs": [
    {
     "name": "stdout",
     "output_type": "stream",
     "text": [
      "doc_id           25\n",
      "headline_text    25\n",
      "dtype: int64\n"
     ]
    }
   ],
   "execution_count": 31
  },
  {
   "metadata": {
    "ExecuteTime": {
     "end_time": "2025-03-11T10:32:05.686980Z",
     "start_time": "2025-03-11T10:32:05.682887Z"
    }
   },
   "cell_type": "code",
   "source": "print(doc_term_matrixed_tf_idf)",
   "id": "c8c47e3473216474",
   "outputs": [
    {
     "name": "stdout",
     "output_type": "stream",
     "text": [
      "<Compressed Sparse Row sparse matrix of dtype 'float64'\n",
      "\twith 110 stored elements and shape (25, 101)>\n",
      "  Coords\tValues\n",
      "  (0, 39)\t0.5\n",
      "  (0, 34)\t0.5\n",
      "  (0, 22)\t0.5\n",
      "  (0, 62)\t0.5\n",
      "  (1, 100)\t0.5773502691896257\n",
      "  (1, 12)\t0.5773502691896257\n",
      "  (1, 40)\t0.5773502691896257\n",
      "  (2, 54)\t0.5773502691896257\n",
      "  (2, 74)\t0.5773502691896257\n",
      "  (2, 87)\t0.5773502691896257\n",
      "  (3, 83)\t0.5291875165150637\n",
      "  (3, 8)\t0.4689995440985196\n",
      "  (3, 86)\t0.4689995440985196\n",
      "  (3, 78)\t0.5291875165150637\n",
      "  (4, 86)\t0.45551568364217737\n",
      "  (4, 1)\t0.5139732359945084\n",
      "  (4, 10)\t0.5139732359945084\n",
      "  (4, 91)\t0.5139732359945084\n",
      "  (5, 3)\t0.4472135954999579\n",
      "  (5, 69)\t0.4472135954999579\n",
      "  (5, 99)\t0.4472135954999579\n",
      "  (5, 92)\t0.4472135954999579\n",
      "  (5, 56)\t0.4472135954999579\n",
      "  (6, 4)\t0.4677328981134654\n",
      "  (6, 42)\t0.4677328981134654\n",
      "  :\t:\n",
      "  (19, 95)\t0.5\n",
      "  (19, 31)\t0.5\n",
      "  (20, 26)\t0.5\n",
      "  (20, 73)\t0.5\n",
      "  (20, 89)\t0.5\n",
      "  (20, 6)\t0.5\n",
      "  (21, 27)\t0.408248290463863\n",
      "  (21, 11)\t0.408248290463863\n",
      "  (21, 47)\t0.408248290463863\n",
      "  (21, 41)\t0.408248290463863\n",
      "  (21, 45)\t0.408248290463863\n",
      "  (21, 64)\t0.408248290463863\n",
      "  (22, 2)\t0.45551568364217737\n",
      "  (22, 46)\t0.5139732359945084\n",
      "  (22, 16)\t0.5139732359945084\n",
      "  (22, 49)\t0.5139732359945084\n",
      "  (23, 28)\t0.408248290463863\n",
      "  (23, 48)\t0.408248290463863\n",
      "  (23, 51)\t0.408248290463863\n",
      "  (23, 61)\t0.408248290463863\n",
      "  (23, 80)\t0.408248290463863\n",
      "  (23, 81)\t0.408248290463863\n",
      "  (24, 30)\t0.5773502691896257\n",
      "  (24, 68)\t0.5773502691896257\n",
      "  (24, 50)\t0.5773502691896257\n"
     ]
    }
   ],
   "execution_count": 21
  },
  {
   "metadata": {
    "ExecuteTime": {
     "end_time": "2025-03-11T10:32:05.780359Z",
     "start_time": "2025-03-11T10:32:05.771566Z"
    }
   },
   "cell_type": "code",
   "source": [
    "query_2_similarities = cosine_similarity(query_vector_2, doc_term_matrixed).flatten()\n",
    "\n",
    "query_2_similarities"
   ],
   "id": "a2621a934d583154",
   "outputs": [
    {
     "data": {
      "text/plain": [
       "array([0., 0., 1., 0., 0., 0., 0., 0., 0., 0., 0., 0., 0., 0., 0., 0., 0.,\n",
       "       0., 0., 0., 0., 0., 0., 0., 0.])"
      ]
     },
     "execution_count": 22,
     "metadata": {},
     "output_type": "execute_result"
    }
   ],
   "execution_count": 22
  },
  {
   "metadata": {
    "ExecuteTime": {
     "end_time": "2025-03-11T10:32:05.852778Z",
     "start_time": "2025-03-11T10:32:05.849599Z"
    }
   },
   "cell_type": "code",
   "source": [
    "# query_random_similarities = cosine_similarity(query_vector_random, doc_term_matrixed).flatten()\n",
    "#\n",
    "# query_vector_random"
   ],
   "id": "44f12e5dc661773b",
   "outputs": [],
   "execution_count": 23
  },
  {
   "metadata": {
    "ExecuteTime": {
     "end_time": "2025-03-11T10:32:05.906971Z",
     "start_time": "2025-03-11T10:32:05.900626Z"
    }
   },
   "cell_type": "code",
   "source": [
    "query_3_similarities = cosine_similarity(query_vector_3, doc_term_matrixed).flatten()\n",
    "\n",
    "print(query_3_similarities)"
   ],
   "id": "194fdcf950278ec1",
   "outputs": [
    {
     "name": "stdout",
     "output_type": "stream",
     "text": [
      "[0. 0. 0. 0. 0. 0. 0. 0. 0. 0. 0. 0. 0. 0. 0. 0. 0. 0. 0. 0. 0. 0. 0. 0.\n",
      " 0.]\n"
     ]
    }
   ],
   "execution_count": 24
  },
  {
   "metadata": {
    "ExecuteTime": {
     "end_time": "2025-03-11T10:32:05.929257Z",
     "start_time": "2025-03-11T10:32:05.923646Z"
    }
   },
   "cell_type": "code",
   "source": [
    "ranked_indices = np.argsort(query_3_similarities)[::-1]\n",
    "\n",
    "ranked_indices"
   ],
   "id": "e02f5844d13a68a2",
   "outputs": [
    {
     "data": {
      "text/plain": [
       "array([24, 23, 22, 21, 20, 19, 18, 17, 16, 15, 14, 13, 12, 11, 10,  9,  8,\n",
       "        7,  6,  5,  4,  3,  2,  1,  0])"
      ]
     },
     "execution_count": 25,
     "metadata": {},
     "output_type": "execute_result"
    }
   ],
   "execution_count": 25
  },
  {
   "metadata": {
    "ExecuteTime": {
     "end_time": "2025-03-11T10:32:05.962006Z",
     "start_time": "2025-03-11T10:32:05.954948Z"
    }
   },
   "cell_type": "code",
   "source": "top_news_part1",
   "id": "a2a9feae407513b2",
   "outputs": [
    {
     "data": {
      "text/plain": [
       "    doc_id                                headline_text\n",
       "0        1        decid against commun broadcast licenc\n",
       "1        2                     fire wit must awar defam\n",
       "2        3            call infrastructur protect summit\n",
       "3        4                       staff aust strike rise\n",
       "4        5              strike affect australian travel\n",
       "5        6                 ambiti olsson win tripl jump\n",
       "6        7        antic delight with record break barca\n",
       "7        8  aussi qualifi stosur wast four memphi match\n",
       "8        9         aust address secur council over iraq\n",
       "9       10                    australia lock into timet\n",
       "10      11             australia contribut million iraq\n",
       "11      12     barca take record robson celebr birthday\n",
       "12      13                     bathhous plan move ahead\n",
       "13      14            hope launceston cycl championship\n",
       "14      15                plan boost paroo water suppli\n",
       "15      16                blizzard buri unit state bill\n",
       "16      17          brigadi dismiss report troop harass\n",
       "17      18      british combat troop arriv daili kuwait\n",
       "18      19              bryant lead laker doubl overtim\n",
       "19      20                bushfir victim urg centrelink\n",
       "20      21          busi should prepar terrorist attack\n",
       "21      22      calleri aveng final defeat elimin massu\n",
       "22      23                call ethanol blend fuel ahead\n",
       "23      24              carew freak goal leav roma ruin\n",
       "24      25                           cemeteri miss fund"
      ],
      "text/html": [
       "<div>\n",
       "<style scoped>\n",
       "    .dataframe tbody tr th:only-of-type {\n",
       "        vertical-align: middle;\n",
       "    }\n",
       "\n",
       "    .dataframe tbody tr th {\n",
       "        vertical-align: top;\n",
       "    }\n",
       "\n",
       "    .dataframe thead th {\n",
       "        text-align: right;\n",
       "    }\n",
       "</style>\n",
       "<table border=\"1\" class=\"dataframe\">\n",
       "  <thead>\n",
       "    <tr style=\"text-align: right;\">\n",
       "      <th></th>\n",
       "      <th>doc_id</th>\n",
       "      <th>headline_text</th>\n",
       "    </tr>\n",
       "  </thead>\n",
       "  <tbody>\n",
       "    <tr>\n",
       "      <th>0</th>\n",
       "      <td>1</td>\n",
       "      <td>decid against commun broadcast licenc</td>\n",
       "    </tr>\n",
       "    <tr>\n",
       "      <th>1</th>\n",
       "      <td>2</td>\n",
       "      <td>fire wit must awar defam</td>\n",
       "    </tr>\n",
       "    <tr>\n",
       "      <th>2</th>\n",
       "      <td>3</td>\n",
       "      <td>call infrastructur protect summit</td>\n",
       "    </tr>\n",
       "    <tr>\n",
       "      <th>3</th>\n",
       "      <td>4</td>\n",
       "      <td>staff aust strike rise</td>\n",
       "    </tr>\n",
       "    <tr>\n",
       "      <th>4</th>\n",
       "      <td>5</td>\n",
       "      <td>strike affect australian travel</td>\n",
       "    </tr>\n",
       "    <tr>\n",
       "      <th>5</th>\n",
       "      <td>6</td>\n",
       "      <td>ambiti olsson win tripl jump</td>\n",
       "    </tr>\n",
       "    <tr>\n",
       "      <th>6</th>\n",
       "      <td>7</td>\n",
       "      <td>antic delight with record break barca</td>\n",
       "    </tr>\n",
       "    <tr>\n",
       "      <th>7</th>\n",
       "      <td>8</td>\n",
       "      <td>aussi qualifi stosur wast four memphi match</td>\n",
       "    </tr>\n",
       "    <tr>\n",
       "      <th>8</th>\n",
       "      <td>9</td>\n",
       "      <td>aust address secur council over iraq</td>\n",
       "    </tr>\n",
       "    <tr>\n",
       "      <th>9</th>\n",
       "      <td>10</td>\n",
       "      <td>australia lock into timet</td>\n",
       "    </tr>\n",
       "    <tr>\n",
       "      <th>10</th>\n",
       "      <td>11</td>\n",
       "      <td>australia contribut million iraq</td>\n",
       "    </tr>\n",
       "    <tr>\n",
       "      <th>11</th>\n",
       "      <td>12</td>\n",
       "      <td>barca take record robson celebr birthday</td>\n",
       "    </tr>\n",
       "    <tr>\n",
       "      <th>12</th>\n",
       "      <td>13</td>\n",
       "      <td>bathhous plan move ahead</td>\n",
       "    </tr>\n",
       "    <tr>\n",
       "      <th>13</th>\n",
       "      <td>14</td>\n",
       "      <td>hope launceston cycl championship</td>\n",
       "    </tr>\n",
       "    <tr>\n",
       "      <th>14</th>\n",
       "      <td>15</td>\n",
       "      <td>plan boost paroo water suppli</td>\n",
       "    </tr>\n",
       "    <tr>\n",
       "      <th>15</th>\n",
       "      <td>16</td>\n",
       "      <td>blizzard buri unit state bill</td>\n",
       "    </tr>\n",
       "    <tr>\n",
       "      <th>16</th>\n",
       "      <td>17</td>\n",
       "      <td>brigadi dismiss report troop harass</td>\n",
       "    </tr>\n",
       "    <tr>\n",
       "      <th>17</th>\n",
       "      <td>18</td>\n",
       "      <td>british combat troop arriv daili kuwait</td>\n",
       "    </tr>\n",
       "    <tr>\n",
       "      <th>18</th>\n",
       "      <td>19</td>\n",
       "      <td>bryant lead laker doubl overtim</td>\n",
       "    </tr>\n",
       "    <tr>\n",
       "      <th>19</th>\n",
       "      <td>20</td>\n",
       "      <td>bushfir victim urg centrelink</td>\n",
       "    </tr>\n",
       "    <tr>\n",
       "      <th>20</th>\n",
       "      <td>21</td>\n",
       "      <td>busi should prepar terrorist attack</td>\n",
       "    </tr>\n",
       "    <tr>\n",
       "      <th>21</th>\n",
       "      <td>22</td>\n",
       "      <td>calleri aveng final defeat elimin massu</td>\n",
       "    </tr>\n",
       "    <tr>\n",
       "      <th>22</th>\n",
       "      <td>23</td>\n",
       "      <td>call ethanol blend fuel ahead</td>\n",
       "    </tr>\n",
       "    <tr>\n",
       "      <th>23</th>\n",
       "      <td>24</td>\n",
       "      <td>carew freak goal leav roma ruin</td>\n",
       "    </tr>\n",
       "    <tr>\n",
       "      <th>24</th>\n",
       "      <td>25</td>\n",
       "      <td>cemeteri miss fund</td>\n",
       "    </tr>\n",
       "  </tbody>\n",
       "</table>\n",
       "</div>"
      ]
     },
     "execution_count": 26,
     "metadata": {},
     "output_type": "execute_result"
    }
   ],
   "execution_count": 26
  },
  {
   "metadata": {
    "ExecuteTime": {
     "end_time": "2025-03-11T10:32:06.019992Z",
     "start_time": "2025-03-11T10:32:06.014775Z"
    }
   },
   "cell_type": "code",
   "source": [
    "top_news_genap_024 = top_news_part1[top_news_part1.index % 2 == 0]\n",
    "top_news_genap_024 = top_news_genap_024.reset_index(drop=True)"
   ],
   "id": "3224ed98348b8b3e",
   "outputs": [],
   "execution_count": 27
  },
  {
   "metadata": {
    "ExecuteTime": {
     "end_time": "2025-03-11T10:32:06.079489Z",
     "start_time": "2025-03-11T10:32:06.077469Z"
    }
   },
   "cell_type": "code",
   "source": "",
   "id": "a7a80b378d405dce",
   "outputs": [],
   "execution_count": null
  },
  {
   "metadata": {
    "ExecuteTime": {
     "end_time": "2025-03-11T10:32:06.132448Z",
     "start_time": "2025-03-11T10:32:06.122832Z"
    }
   },
   "cell_type": "code",
   "source": [
    "len_news_p1 = len(top_news_genap_024)\n",
    "for i in range(len_news_p1):\n",
    "    filenames = '../docs/'f'top_news{i}.txt'\n",
    "\n",
    "    with open(filenames, 'w') as file:\n",
    "        file.write(top_news_genap_024.loc[i, 'headline_text'])"
   ],
   "id": "569428e4ccca7526",
   "outputs": [],
   "execution_count": 28
  }
 ],
 "metadata": {
  "kernelspec": {
   "display_name": "Python 3",
   "language": "python",
   "name": "python3"
  },
  "language_info": {
   "codemirror_mode": {
    "name": "ipython",
    "version": 2
   },
   "file_extension": ".py",
   "mimetype": "text/x-python",
   "name": "python",
   "nbconvert_exporter": "python",
   "pygments_lexer": "ipython2",
   "version": "2.7.6"
  }
 },
 "nbformat": 4,
 "nbformat_minor": 5
}
