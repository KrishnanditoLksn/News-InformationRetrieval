{
 "cells": [
  {
   "cell_type": "code",
   "id": "initial_id",
   "metadata": {
    "collapsed": true,
    "ExecuteTime": {
     "end_time": "2025-03-07T15:15:55.191943Z",
     "start_time": "2025-03-07T15:15:51.332745Z"
    }
   },
   "source": [
    "import glob\n",
    "import os\n",
    "\n",
    "import nltk\n",
    "import pandas as pd\n",
    "\n",
    "nltk.download('punkt')\n",
    "nltk.download('wordnet')\n",
    "nltk.download('punkt_tab')\n",
    "nltk.download('omw-1.4')\n",
    "\n",
    "news = pd.read_csv('../abcnews-date-text.csv')"
   ],
   "outputs": [
    {
     "name": "stderr",
     "output_type": "stream",
     "text": [
      "[nltk_data] Downloading package punkt to\n",
      "[nltk_data]     C:\\Users\\asus\\AppData\\Roaming\\nltk_data...\n",
      "[nltk_data]   Package punkt is already up-to-date!\n",
      "[nltk_data] Downloading package wordnet to\n",
      "[nltk_data]     C:\\Users\\asus\\AppData\\Roaming\\nltk_data...\n",
      "[nltk_data]   Package wordnet is already up-to-date!\n",
      "[nltk_data] Downloading package punkt_tab to\n",
      "[nltk_data]     C:\\Users\\asus\\AppData\\Roaming\\nltk_data...\n",
      "[nltk_data]   Package punkt_tab is already up-to-date!\n",
      "[nltk_data] Downloading package omw-1.4 to\n",
      "[nltk_data]     C:\\Users\\asus\\AppData\\Roaming\\nltk_data...\n",
      "[nltk_data]   Package omw-1.4 is already up-to-date!\n"
     ]
    }
   ],
   "execution_count": 1
  },
  {
   "metadata": {
    "ExecuteTime": {
     "end_time": "2025-03-07T15:15:55.229257Z",
     "start_time": "2025-03-07T15:15:55.212475Z"
    }
   },
   "cell_type": "code",
   "source": "news",
   "id": "597631a08470a127",
   "outputs": [
    {
     "data": {
      "text/plain": [
       "         publish_date                                      headline_text\n",
       "0            20030219  aba decides against community broadcasting lic...\n",
       "1            20030219     act fire witnesses must be aware of defamation\n",
       "2            20030219     a g calls for infrastructure protection summit\n",
       "3            20030219           air nz staff in aust strike for pay rise\n",
       "4            20030219      air nz strike to affect australian travellers\n",
       "...               ...                                                ...\n",
       "1244179      20211231  two aged care residents die as state records 2...\n",
       "1244180      20211231  victoria records 5;919 new cases and seven deaths\n",
       "1244181      20211231    wa delays adopting new close contact definition\n",
       "1244182      20211231  western ringtail possums found badly dehydrate...\n",
       "1244183      20211231  what makes you a close covid contact here are ...\n",
       "\n",
       "[1244184 rows x 2 columns]"
      ],
      "text/html": [
       "<div>\n",
       "<style scoped>\n",
       "    .dataframe tbody tr th:only-of-type {\n",
       "        vertical-align: middle;\n",
       "    }\n",
       "\n",
       "    .dataframe tbody tr th {\n",
       "        vertical-align: top;\n",
       "    }\n",
       "\n",
       "    .dataframe thead th {\n",
       "        text-align: right;\n",
       "    }\n",
       "</style>\n",
       "<table border=\"1\" class=\"dataframe\">\n",
       "  <thead>\n",
       "    <tr style=\"text-align: right;\">\n",
       "      <th></th>\n",
       "      <th>publish_date</th>\n",
       "      <th>headline_text</th>\n",
       "    </tr>\n",
       "  </thead>\n",
       "  <tbody>\n",
       "    <tr>\n",
       "      <th>0</th>\n",
       "      <td>20030219</td>\n",
       "      <td>aba decides against community broadcasting lic...</td>\n",
       "    </tr>\n",
       "    <tr>\n",
       "      <th>1</th>\n",
       "      <td>20030219</td>\n",
       "      <td>act fire witnesses must be aware of defamation</td>\n",
       "    </tr>\n",
       "    <tr>\n",
       "      <th>2</th>\n",
       "      <td>20030219</td>\n",
       "      <td>a g calls for infrastructure protection summit</td>\n",
       "    </tr>\n",
       "    <tr>\n",
       "      <th>3</th>\n",
       "      <td>20030219</td>\n",
       "      <td>air nz staff in aust strike for pay rise</td>\n",
       "    </tr>\n",
       "    <tr>\n",
       "      <th>4</th>\n",
       "      <td>20030219</td>\n",
       "      <td>air nz strike to affect australian travellers</td>\n",
       "    </tr>\n",
       "    <tr>\n",
       "      <th>...</th>\n",
       "      <td>...</td>\n",
       "      <td>...</td>\n",
       "    </tr>\n",
       "    <tr>\n",
       "      <th>1244179</th>\n",
       "      <td>20211231</td>\n",
       "      <td>two aged care residents die as state records 2...</td>\n",
       "    </tr>\n",
       "    <tr>\n",
       "      <th>1244180</th>\n",
       "      <td>20211231</td>\n",
       "      <td>victoria records 5;919 new cases and seven deaths</td>\n",
       "    </tr>\n",
       "    <tr>\n",
       "      <th>1244181</th>\n",
       "      <td>20211231</td>\n",
       "      <td>wa delays adopting new close contact definition</td>\n",
       "    </tr>\n",
       "    <tr>\n",
       "      <th>1244182</th>\n",
       "      <td>20211231</td>\n",
       "      <td>western ringtail possums found badly dehydrate...</td>\n",
       "    </tr>\n",
       "    <tr>\n",
       "      <th>1244183</th>\n",
       "      <td>20211231</td>\n",
       "      <td>what makes you a close covid contact here are ...</td>\n",
       "    </tr>\n",
       "  </tbody>\n",
       "</table>\n",
       "<p>1244184 rows × 2 columns</p>\n",
       "</div>"
      ]
     },
     "execution_count": 2,
     "metadata": {},
     "output_type": "execute_result"
    }
   ],
   "execution_count": 2
  },
  {
   "metadata": {
    "ExecuteTime": {
     "end_time": "2025-03-07T15:39:56.333193Z",
     "start_time": "2025-03-07T15:39:56.308310Z"
    }
   },
   "cell_type": "code",
   "source": [
    "folder_path = '../documents/'\n",
    "columns = ['headline_text']\n",
    "all_datas = []\n",
    "for filename in glob.glob(os.path.join(folder_path, '**', '*.txt'), recursive=True):\n",
    "    with open(filename, 'r') as f:\n",
    "        text = f.read()\n",
    "        datas = pd.DataFrame([[text]], columns=columns)\n",
    "        all_datas.append(datas)\n",
    "        print(datas)\n"
   ],
   "id": "4aef055bc0d1cdba",
   "outputs": [
    {
     "name": "stdout",
     "output_type": "stream",
     "text": [
      "                              headline_text\n",
      "0  decid against communiti broadcast licenc\n",
      "                       headline_text\n",
      "0  call infrastructur protect summit\n",
      "                         headline_text\n",
      "0  busi should prepar terrorist attack\n",
      "                   headline_text\n",
      "0  call ethanol blend fuel ahead\n",
      "        headline_text\n",
      "0  cemeteri miss fund\n",
      "                     headline_text\n",
      "0  strike affect australian travel\n",
      "                           headline_text\n",
      "0  antic delight with record break barca\n",
      "                          headline_text\n",
      "0  aust address secur council over iraq\n",
      "                      headline_text\n",
      "0  australia contribut million iraq\n",
      "              headline_text\n",
      "0  bathhous plan move ahead\n",
      "                   headline_text\n",
      "0  plan boost paroo water suppli\n",
      "                         headline_text\n",
      "0  brigadi dismiss report troop harass\n",
      "                     headline_text\n",
      "0  bryant lead laker doubl overtim\n"
     ]
    }
   ],
   "execution_count": 11
  },
  {
   "metadata": {
    "ExecuteTime": {
     "end_time": "2025-03-07T15:40:25.038933Z",
     "start_time": "2025-03-07T15:40:25.024628Z"
    }
   },
   "cell_type": "code",
   "source": [
    "\n",
    "df = pd.concat(all_datas,ignore_index=True)\n",
    "print(df)"
   ],
   "id": "457e20221187bdc",
   "outputs": [
    {
     "name": "stdout",
     "output_type": "stream",
     "text": [
      "                               headline_text\n",
      "0   decid against communiti broadcast licenc\n",
      "1          call infrastructur protect summit\n",
      "2        busi should prepar terrorist attack\n",
      "3              call ethanol blend fuel ahead\n",
      "4                         cemeteri miss fund\n",
      "5            strike affect australian travel\n",
      "6      antic delight with record break barca\n",
      "7       aust address secur council over iraq\n",
      "8           australia contribut million iraq\n",
      "9                   bathhous plan move ahead\n",
      "10             plan boost paroo water suppli\n",
      "11       brigadi dismiss report troop harass\n",
      "12           bryant lead laker doubl overtim\n"
     ]
    }
   ],
   "execution_count": 12
  },
  {
   "metadata": {
    "ExecuteTime": {
     "end_time": "2025-03-07T15:41:21.862552Z",
     "start_time": "2025-03-07T15:41:21.851163Z"
    }
   },
   "cell_type": "code",
   "source": "df.to_csv('top_25_news_genap.csv',index=False)",
   "id": "5fdceb118c3f640d",
   "outputs": [],
   "execution_count": 13
  },
  {
   "metadata": {
    "ExecuteTime": {
     "end_time": "2025-03-07T15:42:07.124854Z",
     "start_time": "2025-03-07T15:42:07.119369Z"
    }
   },
   "cell_type": "code",
   "source": "top_news_genap=  pd.read_csv('top_25_news_genap.csv')",
   "id": "39289da0161b15b7",
   "outputs": [],
   "execution_count": 14
  },
  {
   "metadata": {
    "ExecuteTime": {
     "end_time": "2025-03-07T15:42:09.117649Z",
     "start_time": "2025-03-07T15:42:09.111145Z"
    }
   },
   "cell_type": "code",
   "source": "top_news_genap",
   "id": "b005f03b38863d46",
   "outputs": [
    {
     "data": {
      "text/plain": [
       "                               headline_text\n",
       "0   decid against communiti broadcast licenc\n",
       "1          call infrastructur protect summit\n",
       "2        busi should prepar terrorist attack\n",
       "3              call ethanol blend fuel ahead\n",
       "4                         cemeteri miss fund\n",
       "5            strike affect australian travel\n",
       "6      antic delight with record break barca\n",
       "7       aust address secur council over iraq\n",
       "8           australia contribut million iraq\n",
       "9                   bathhous plan move ahead\n",
       "10             plan boost paroo water suppli\n",
       "11       brigadi dismiss report troop harass\n",
       "12           bryant lead laker doubl overtim"
      ],
      "text/html": [
       "<div>\n",
       "<style scoped>\n",
       "    .dataframe tbody tr th:only-of-type {\n",
       "        vertical-align: middle;\n",
       "    }\n",
       "\n",
       "    .dataframe tbody tr th {\n",
       "        vertical-align: top;\n",
       "    }\n",
       "\n",
       "    .dataframe thead th {\n",
       "        text-align: right;\n",
       "    }\n",
       "</style>\n",
       "<table border=\"1\" class=\"dataframe\">\n",
       "  <thead>\n",
       "    <tr style=\"text-align: right;\">\n",
       "      <th></th>\n",
       "      <th>headline_text</th>\n",
       "    </tr>\n",
       "  </thead>\n",
       "  <tbody>\n",
       "    <tr>\n",
       "      <th>0</th>\n",
       "      <td>decid against communiti broadcast licenc</td>\n",
       "    </tr>\n",
       "    <tr>\n",
       "      <th>1</th>\n",
       "      <td>call infrastructur protect summit</td>\n",
       "    </tr>\n",
       "    <tr>\n",
       "      <th>2</th>\n",
       "      <td>busi should prepar terrorist attack</td>\n",
       "    </tr>\n",
       "    <tr>\n",
       "      <th>3</th>\n",
       "      <td>call ethanol blend fuel ahead</td>\n",
       "    </tr>\n",
       "    <tr>\n",
       "      <th>4</th>\n",
       "      <td>cemeteri miss fund</td>\n",
       "    </tr>\n",
       "    <tr>\n",
       "      <th>5</th>\n",
       "      <td>strike affect australian travel</td>\n",
       "    </tr>\n",
       "    <tr>\n",
       "      <th>6</th>\n",
       "      <td>antic delight with record break barca</td>\n",
       "    </tr>\n",
       "    <tr>\n",
       "      <th>7</th>\n",
       "      <td>aust address secur council over iraq</td>\n",
       "    </tr>\n",
       "    <tr>\n",
       "      <th>8</th>\n",
       "      <td>australia contribut million iraq</td>\n",
       "    </tr>\n",
       "    <tr>\n",
       "      <th>9</th>\n",
       "      <td>bathhous plan move ahead</td>\n",
       "    </tr>\n",
       "    <tr>\n",
       "      <th>10</th>\n",
       "      <td>plan boost paroo water suppli</td>\n",
       "    </tr>\n",
       "    <tr>\n",
       "      <th>11</th>\n",
       "      <td>brigadi dismiss report troop harass</td>\n",
       "    </tr>\n",
       "    <tr>\n",
       "      <th>12</th>\n",
       "      <td>bryant lead laker doubl overtim</td>\n",
       "    </tr>\n",
       "  </tbody>\n",
       "</table>\n",
       "</div>"
      ]
     },
     "execution_count": 15,
     "metadata": {},
     "output_type": "execute_result"
    }
   ],
   "execution_count": 15
  },
  {
   "metadata": {},
   "cell_type": "code",
   "outputs": [],
   "execution_count": null,
   "source": "",
   "id": "e4d22bdf883c6c07"
  }
 ],
 "metadata": {
  "kernelspec": {
   "display_name": "Python 3",
   "language": "python",
   "name": "python3"
  },
  "language_info": {
   "codemirror_mode": {
    "name": "ipython",
    "version": 2
   },
   "file_extension": ".py",
   "mimetype": "text/x-python",
   "name": "python",
   "nbconvert_exporter": "python",
   "pygments_lexer": "ipython2",
   "version": "2.7.6"
  }
 },
 "nbformat": 4,
 "nbformat_minor": 5
}
