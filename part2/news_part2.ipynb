{
 "cells": [
  {
   "cell_type": "code",
   "id": "initial_id",
   "metadata": {
    "collapsed": true,
    "ExecuteTime": {
     "end_time": "2025-03-24T03:12:25.714834Z",
     "start_time": "2025-03-24T03:12:24.742629Z"
    }
   },
   "source": [
    "import glob\n",
    "import os\n",
    "\n",
    "import nltk\n",
    "import pandas as pd\n",
    "from sklearn.feature_extraction.text import CountVectorizer, TfidfVectorizer\n",
    "from sklearn.metrics.pairwise import euclidean_distances\n",
    "\n",
    "nltk.download('punkt')\n",
    "nltk.download('wordnet')\n",
    "nltk.download('punkt_tab')\n",
    "nltk.download('omw-1.4')\n",
    "\n",
    "news = pd.read_csv('../abcnews-date-text.csv')"
   ],
   "outputs": [
    {
     "name": "stderr",
     "output_type": "stream",
     "text": [
      "[nltk_data] Downloading package punkt to\n",
      "[nltk_data]     C:\\Users\\asus\\AppData\\Roaming\\nltk_data...\n",
      "[nltk_data]   Package punkt is already up-to-date!\n",
      "[nltk_data] Downloading package wordnet to\n",
      "[nltk_data]     C:\\Users\\asus\\AppData\\Roaming\\nltk_data...\n",
      "[nltk_data]   Package wordnet is already up-to-date!\n",
      "[nltk_data] Downloading package punkt_tab to\n",
      "[nltk_data]     C:\\Users\\asus\\AppData\\Roaming\\nltk_data...\n",
      "[nltk_data]   Package punkt_tab is already up-to-date!\n",
      "[nltk_data] Downloading package omw-1.4 to\n",
      "[nltk_data]     C:\\Users\\asus\\AppData\\Roaming\\nltk_data...\n",
      "[nltk_data]   Package omw-1.4 is already up-to-date!\n"
     ]
    }
   ],
   "execution_count": 25
  },
  {
   "metadata": {
    "ExecuteTime": {
     "end_time": "2025-03-24T03:12:25.793278Z",
     "start_time": "2025-03-24T03:12:25.782890Z"
    }
   },
   "cell_type": "code",
   "source": "news",
   "id": "597631a08470a127",
   "outputs": [
    {
     "data": {
      "text/plain": [
       "         publish_date                                      headline_text\n",
       "0            20030219  aba decides against community broadcasting lic...\n",
       "1            20030219     act fire witnesses must be aware of defamation\n",
       "2            20030219     a g calls for infrastructure protection summit\n",
       "3            20030219           air nz staff in aust strike for pay rise\n",
       "4            20030219      air nz strike to affect australian travellers\n",
       "...               ...                                                ...\n",
       "1244179      20211231  two aged care residents die as state records 2...\n",
       "1244180      20211231  victoria records 5;919 new cases and seven deaths\n",
       "1244181      20211231    wa delays adopting new close contact definition\n",
       "1244182      20211231  western ringtail possums found badly dehydrate...\n",
       "1244183      20211231  what makes you a close covid contact here are ...\n",
       "\n",
       "[1244184 rows x 2 columns]"
      ],
      "text/html": [
       "<div>\n",
       "<style scoped>\n",
       "    .dataframe tbody tr th:only-of-type {\n",
       "        vertical-align: middle;\n",
       "    }\n",
       "\n",
       "    .dataframe tbody tr th {\n",
       "        vertical-align: top;\n",
       "    }\n",
       "\n",
       "    .dataframe thead th {\n",
       "        text-align: right;\n",
       "    }\n",
       "</style>\n",
       "<table border=\"1\" class=\"dataframe\">\n",
       "  <thead>\n",
       "    <tr style=\"text-align: right;\">\n",
       "      <th></th>\n",
       "      <th>publish_date</th>\n",
       "      <th>headline_text</th>\n",
       "    </tr>\n",
       "  </thead>\n",
       "  <tbody>\n",
       "    <tr>\n",
       "      <th>0</th>\n",
       "      <td>20030219</td>\n",
       "      <td>aba decides against community broadcasting lic...</td>\n",
       "    </tr>\n",
       "    <tr>\n",
       "      <th>1</th>\n",
       "      <td>20030219</td>\n",
       "      <td>act fire witnesses must be aware of defamation</td>\n",
       "    </tr>\n",
       "    <tr>\n",
       "      <th>2</th>\n",
       "      <td>20030219</td>\n",
       "      <td>a g calls for infrastructure protection summit</td>\n",
       "    </tr>\n",
       "    <tr>\n",
       "      <th>3</th>\n",
       "      <td>20030219</td>\n",
       "      <td>air nz staff in aust strike for pay rise</td>\n",
       "    </tr>\n",
       "    <tr>\n",
       "      <th>4</th>\n",
       "      <td>20030219</td>\n",
       "      <td>air nz strike to affect australian travellers</td>\n",
       "    </tr>\n",
       "    <tr>\n",
       "      <th>...</th>\n",
       "      <td>...</td>\n",
       "      <td>...</td>\n",
       "    </tr>\n",
       "    <tr>\n",
       "      <th>1244179</th>\n",
       "      <td>20211231</td>\n",
       "      <td>two aged care residents die as state records 2...</td>\n",
       "    </tr>\n",
       "    <tr>\n",
       "      <th>1244180</th>\n",
       "      <td>20211231</td>\n",
       "      <td>victoria records 5;919 new cases and seven deaths</td>\n",
       "    </tr>\n",
       "    <tr>\n",
       "      <th>1244181</th>\n",
       "      <td>20211231</td>\n",
       "      <td>wa delays adopting new close contact definition</td>\n",
       "    </tr>\n",
       "    <tr>\n",
       "      <th>1244182</th>\n",
       "      <td>20211231</td>\n",
       "      <td>western ringtail possums found badly dehydrate...</td>\n",
       "    </tr>\n",
       "    <tr>\n",
       "      <th>1244183</th>\n",
       "      <td>20211231</td>\n",
       "      <td>what makes you a close covid contact here are ...</td>\n",
       "    </tr>\n",
       "  </tbody>\n",
       "</table>\n",
       "<p>1244184 rows × 2 columns</p>\n",
       "</div>"
      ]
     },
     "execution_count": 26,
     "metadata": {},
     "output_type": "execute_result"
    }
   ],
   "execution_count": 26
  },
  {
   "metadata": {
    "ExecuteTime": {
     "end_time": "2025-03-24T03:12:25.905025Z",
     "start_time": "2025-03-24T03:12:25.839053Z"
    }
   },
   "cell_type": "code",
   "source": [
    "folder_path = '../dokumen/'\n",
    "columns = ['headline_text']\n",
    "all_datas = []\n",
    "for filename in glob.glob(os.path.join(folder_path, '**', '*.txt'), recursive=True):\n",
    "    with open(filename, 'r' , encoding=\"utf8\") as f:\n",
    "        text = f.read()\n",
    "        datas = pd.DataFrame([[text]], columns=columns)\n",
    "        all_datas.append(datas)\n",
    "        print(datas)\n"
   ],
   "id": "4aef055bc0d1cdba",
   "outputs": [
    {
     "name": "stdout",
     "output_type": "stream",
     "text": [
      "                                       headline_text\n",
      "0  Water woes in Greece \\n\\nClimate change is wor...\n",
      "                                       headline_text\n",
      "0  Catastrophic drought that’s pushed millions in...\n",
      "                                       headline_text\n",
      "0  Health experts say world needs to end fossil f...\n",
      "                                       headline_text\n",
      "0  Scientists are worried by how fast the climate...\n",
      "                                       headline_text\n",
      "0  Climate change is intensifying the US border c...\n",
      "                                       headline_text\n",
      "0  The planet is heating up faster than predicted...\n",
      "                                       headline_text\n",
      "0  On GPS: Getting the world to tackle climate ch...\n",
      "                                       headline_text\n",
      "0  Ten photographs that made the world wake up to...\n",
      "                                       headline_text\n",
      "0  New report paints dire picture of America’s fu...\n",
      "                                       headline_text\n",
      "0  Data from centuries-old sea creatures suggest ...\n",
      "                                       headline_text\n",
      "0  Countries’ emissions plans put the world ‘wild...\n",
      "                                       headline_text\n",
      "0  Is it possible to be optimistic about climate ...\n",
      "                                       headline_text\n",
      "0  Climate change clearly visible as NOAA prepare...\n",
      "                                       headline_text\n",
      "0  As sea levels rise, DeSantis signs bill deleti...\n",
      "                                       headline_text\n",
      "0  How climate change could be driving ‘killer’ c...\n",
      "                                       headline_text\n",
      "0  The planet is heating up faster than predicted...\n",
      "                                       headline_text\n",
      "0  Why the US is so horribly incapable of meaning...\n",
      "                                       headline_text\n",
      "0  Climate change and extreme weather impacting a...\n",
      "                                       headline_text\n",
      "0  Climate change will make you poorer, according...\n",
      "                                       headline_text\n",
      "0  It’s the summer of changed climate. Get used t...\n",
      "                                       headline_text\n",
      "0  Climate change will make you poorer, according...\n",
      "                                       headline_text\n",
      "0  It’s the summer of changed climate. Get used t...\n",
      "                                       headline_text\n",
      "0  Opinion: We built our world for a climate that...\n",
      "                                       headline_text\n",
      "0  Climate change is messing with time more than ...\n",
      "                                       headline_text\n",
      "0  Hotter, rainier, wetter — climate change is dr...\n",
      "                              headline_text\n",
      "0  decid against communiti broadcast licenc\n",
      "                       headline_text\n",
      "0  call infrastructur protect summit\n",
      "                         headline_text\n",
      "0  busi should prepar terrorist attack\n",
      "                   headline_text\n",
      "0  call ethanol blend fuel ahead\n",
      "        headline_text\n",
      "0  cemeteri miss fund\n",
      "                     headline_text\n",
      "0  strike affect australian travel\n",
      "                           headline_text\n",
      "0  antic delight with record break barca\n",
      "                          headline_text\n",
      "0  aust address secur council over iraq\n",
      "                      headline_text\n",
      "0  australia contribut million iraq\n",
      "              headline_text\n",
      "0  bathhous plan move ahead\n",
      "                   headline_text\n",
      "0  plan boost paroo water suppli\n",
      "                         headline_text\n",
      "0  brigadi dismiss report troop harass\n",
      "                     headline_text\n",
      "0  bryant lead laker doubl overtim\n",
      "                                       headline_text\n",
      "0  Alexandria Ocasio-Cortez announces bid to beco...\n",
      "                                       headline_text\n",
      "0  CNN Poll: Democratic Party’s favorability drop...\n",
      "                                       headline_text\n",
      "0  Democrats confront their powerlessness as Trum...\n",
      "                                       headline_text\n",
      "0  Democrats’ first big chance to check Trump may...\n",
      "                                       headline_text\n",
      "0  Democrats grapple with their own message in Tr...\n",
      "                                       headline_text\n",
      "0  Democrats hold on to open state legislature se...\n",
      "                                       headline_text\n",
      "0  Pew poll: Democrats pessimism about their part...\n",
      "                                       headline_text\n",
      "0  Democrats pick Minnesota’s Ken Martin as new c...\n",
      "                                       headline_text\n",
      "0  Democrats plot strategy in shutdown fight agai...\n",
      "                                       headline_text\n",
      "0  Democrats search for a leader to rebuild as th...\n",
      "                                       headline_text\n",
      "0  Democrats tap freshman Sen. Elissa Slotkin to ...\n",
      "                                       headline_text\n",
      "0  Democrats will face headwinds in final push to...\n",
      "                                       headline_text\n",
      "0  Eric Adams’ embrace of Trump unites Democrats ...\n",
      "                                       headline_text\n",
      "0  Inside and outside the Senate, Democrats begin...\n",
      "                                       headline_text\n",
      "0  Jeffries slams GOP lawmaker’s push to strip so...\n",
      "                                       headline_text\n",
      "0  Joe Manchin torches Democrats on the way out t...\n",
      "                                       headline_text\n",
      "0  Newsom becomes most prominent Democrats to buc...\n",
      "                                       headline_text\n",
      "0  Ocasio-Cortez mobilizes Democrats against Schu...\n",
      "                                       headline_text\n",
      "0  Republicans are feeling great about the econom...\n",
      "                                       headline_text\n",
      "0  Senate Democrats promise all-night marathon of...\n",
      "                                       headline_text\n",
      "0  The real obstacle for Trump’s campaign against...\n",
      "                                       headline_text\n",
      "0  This fiery evangelical pastor offers a bluepri...\n",
      "                                       headline_text\n",
      "0  ‘Blame yourself’: Trump’s election hasn’t damp...\n",
      "                                       headline_text\n",
      "0  What Democrats want Biden to do on student loa...\n",
      "                                       headline_text\n",
      "0  ‘These aren’t normal times’: Frustrated Democr...\n"
     ]
    }
   ],
   "execution_count": 27
  },
  {
   "metadata": {
    "ExecuteTime": {
     "end_time": "2025-03-24T03:12:25.942170Z",
     "start_time": "2025-03-24T03:12:25.933477Z"
    }
   },
   "cell_type": "code",
   "source": [
    "\n",
    "df = pd.concat(all_datas, ignore_index=True)\n",
    "print(df)"
   ],
   "id": "457e20221187bdc",
   "outputs": [
    {
     "name": "stdout",
     "output_type": "stream",
     "text": [
      "                                        headline_text\n",
      "0   Water woes in Greece \\n\\nClimate change is wor...\n",
      "1   Catastrophic drought that’s pushed millions in...\n",
      "2   Health experts say world needs to end fossil f...\n",
      "3   Scientists are worried by how fast the climate...\n",
      "4   Climate change is intensifying the US border c...\n",
      "..                                                ...\n",
      "58  The real obstacle for Trump’s campaign against...\n",
      "59  This fiery evangelical pastor offers a bluepri...\n",
      "60  ‘Blame yourself’: Trump’s election hasn’t damp...\n",
      "61  What Democrats want Biden to do on student loa...\n",
      "62  ‘These aren’t normal times’: Frustrated Democr...\n",
      "\n",
      "[63 rows x 1 columns]\n"
     ]
    }
   ],
   "execution_count": 28
  },
  {
   "metadata": {
    "ExecuteTime": {
     "end_time": "2025-03-24T03:12:26.067054Z",
     "start_time": "2025-03-24T03:12:26.057175Z"
    }
   },
   "cell_type": "code",
   "source": "df.to_csv('top_25_news_genap.csv', index=False)",
   "id": "5fdceb118c3f640d",
   "outputs": [],
   "execution_count": 29
  },
  {
   "metadata": {
    "ExecuteTime": {
     "end_time": "2025-03-24T03:12:28.274872Z",
     "start_time": "2025-03-24T03:12:28.264304Z"
    }
   },
   "cell_type": "code",
   "source": "top_news_genap = pd.read_csv('top_25_news_genap.csv')",
   "id": "39289da0161b15b7",
   "outputs": [],
   "execution_count": 30
  },
  {
   "metadata": {
    "ExecuteTime": {
     "end_time": "2025-03-24T03:12:28.319359Z",
     "start_time": "2025-03-24T03:12:28.311369Z"
    }
   },
   "cell_type": "code",
   "source": "top_news_genap",
   "id": "b005f03b38863d46",
   "outputs": [
    {
     "data": {
      "text/plain": [
       "                                        headline_text\n",
       "0   Water woes in Greece \\n\\nClimate change is wor...\n",
       "1   Catastrophic drought that’s pushed millions in...\n",
       "2   Health experts say world needs to end fossil f...\n",
       "3   Scientists are worried by how fast the climate...\n",
       "4   Climate change is intensifying the US border c...\n",
       "..                                                ...\n",
       "58  The real obstacle for Trump’s campaign against...\n",
       "59  This fiery evangelical pastor offers a bluepri...\n",
       "60  ‘Blame yourself’: Trump’s election hasn’t damp...\n",
       "61  What Democrats want Biden to do on student loa...\n",
       "62  ‘These aren’t normal times’: Frustrated Democr...\n",
       "\n",
       "[63 rows x 1 columns]"
      ],
      "text/html": [
       "<div>\n",
       "<style scoped>\n",
       "    .dataframe tbody tr th:only-of-type {\n",
       "        vertical-align: middle;\n",
       "    }\n",
       "\n",
       "    .dataframe tbody tr th {\n",
       "        vertical-align: top;\n",
       "    }\n",
       "\n",
       "    .dataframe thead th {\n",
       "        text-align: right;\n",
       "    }\n",
       "</style>\n",
       "<table border=\"1\" class=\"dataframe\">\n",
       "  <thead>\n",
       "    <tr style=\"text-align: right;\">\n",
       "      <th></th>\n",
       "      <th>headline_text</th>\n",
       "    </tr>\n",
       "  </thead>\n",
       "  <tbody>\n",
       "    <tr>\n",
       "      <th>0</th>\n",
       "      <td>Water woes in Greece \\n\\nClimate change is wor...</td>\n",
       "    </tr>\n",
       "    <tr>\n",
       "      <th>1</th>\n",
       "      <td>Catastrophic drought that’s pushed millions in...</td>\n",
       "    </tr>\n",
       "    <tr>\n",
       "      <th>2</th>\n",
       "      <td>Health experts say world needs to end fossil f...</td>\n",
       "    </tr>\n",
       "    <tr>\n",
       "      <th>3</th>\n",
       "      <td>Scientists are worried by how fast the climate...</td>\n",
       "    </tr>\n",
       "    <tr>\n",
       "      <th>4</th>\n",
       "      <td>Climate change is intensifying the US border c...</td>\n",
       "    </tr>\n",
       "    <tr>\n",
       "      <th>...</th>\n",
       "      <td>...</td>\n",
       "    </tr>\n",
       "    <tr>\n",
       "      <th>58</th>\n",
       "      <td>The real obstacle for Trump’s campaign against...</td>\n",
       "    </tr>\n",
       "    <tr>\n",
       "      <th>59</th>\n",
       "      <td>This fiery evangelical pastor offers a bluepri...</td>\n",
       "    </tr>\n",
       "    <tr>\n",
       "      <th>60</th>\n",
       "      <td>‘Blame yourself’: Trump’s election hasn’t damp...</td>\n",
       "    </tr>\n",
       "    <tr>\n",
       "      <th>61</th>\n",
       "      <td>What Democrats want Biden to do on student loa...</td>\n",
       "    </tr>\n",
       "    <tr>\n",
       "      <th>62</th>\n",
       "      <td>‘These aren’t normal times’: Frustrated Democr...</td>\n",
       "    </tr>\n",
       "  </tbody>\n",
       "</table>\n",
       "<p>63 rows × 1 columns</p>\n",
       "</div>"
      ]
     },
     "execution_count": 31,
     "metadata": {},
     "output_type": "execute_result"
    }
   ],
   "execution_count": 31
  },
  {
   "metadata": {
    "ExecuteTime": {
     "end_time": "2025-03-24T03:12:28.356159Z",
     "start_time": "2025-03-24T03:12:28.352968Z"
    }
   },
   "cell_type": "code",
   "source": "top_news_genap.insert(0, \"doc_id\", range(1, 1 + len(top_news_genap)))",
   "id": "e4d22bdf883c6c07",
   "outputs": [],
   "execution_count": 32
  },
  {
   "metadata": {
    "ExecuteTime": {
     "end_time": "2025-03-24T03:12:28.402973Z",
     "start_time": "2025-03-24T03:12:28.395996Z"
    }
   },
   "cell_type": "code",
   "source": "top_news_genap['headline_text']",
   "id": "810fa6e09691ee4c",
   "outputs": [
    {
     "data": {
      "text/plain": [
       "0     Water woes in Greece \\n\\nClimate change is wor...\n",
       "1     Catastrophic drought that’s pushed millions in...\n",
       "2     Health experts say world needs to end fossil f...\n",
       "3     Scientists are worried by how fast the climate...\n",
       "4     Climate change is intensifying the US border c...\n",
       "                            ...                        \n",
       "58    The real obstacle for Trump’s campaign against...\n",
       "59    This fiery evangelical pastor offers a bluepri...\n",
       "60    ‘Blame yourself’: Trump’s election hasn’t damp...\n",
       "61    What Democrats want Biden to do on student loa...\n",
       "62    ‘These aren’t normal times’: Frustrated Democr...\n",
       "Name: headline_text, Length: 63, dtype: object"
      ]
     },
     "execution_count": 33,
     "metadata": {},
     "output_type": "execute_result"
    }
   ],
   "execution_count": 33
  },
  {
   "metadata": {
    "ExecuteTime": {
     "end_time": "2025-03-24T03:12:28.542022Z",
     "start_time": "2025-03-24T03:12:28.508600Z"
    }
   },
   "cell_type": "code",
   "source": [
    "count_vectorizerd = CountVectorizer(stop_words='english')\n",
    "doc_term_matrix = count_vectorizerd.fit_transform(top_news_genap['headline_text'])"
   ],
   "id": "7e951219af0fc43a",
   "outputs": [],
   "execution_count": 34
  },
  {
   "metadata": {
    "ExecuteTime": {
     "end_time": "2025-03-24T03:12:28.633035Z",
     "start_time": "2025-03-24T03:12:28.628020Z"
    }
   },
   "cell_type": "code",
   "source": "doc_term_matrix.shape",
   "id": "aab416d1a87b0cd3",
   "outputs": [
    {
     "data": {
      "text/plain": [
       "(63, 4852)"
      ]
     },
     "execution_count": 35,
     "metadata": {},
     "output_type": "execute_result"
    }
   ],
   "execution_count": 35
  },
  {
   "metadata": {
    "ExecuteTime": {
     "end_time": "2025-03-24T03:12:28.695168Z",
     "start_time": "2025-03-24T03:12:28.653226Z"
    }
   },
   "cell_type": "code",
   "source": [
    "top_news_genap_tf_idf_vec = TfidfVectorizer(stop_words='english',\n",
    "                                            max_features=5000)\n",
    "document_term_matrixed_tf_idf = top_news_genap_tf_idf_vec.fit_transform(top_news_genap['headline_text'])"
   ],
   "id": "2b141ac9cf343d98",
   "outputs": [],
   "execution_count": 36
  },
  {
   "metadata": {
    "ExecuteTime": {
     "end_time": "2025-03-24T03:12:28.772333Z",
     "start_time": "2025-03-24T03:12:28.766467Z"
    }
   },
   "cell_type": "code",
   "source": "print(document_term_matrixed_tf_idf)",
   "id": "ef6bcf7a57670417",
   "outputs": [
    {
     "name": "stdout",
     "output_type": "stream",
     "text": [
      "<Compressed Sparse Row sparse matrix of dtype 'float64'\n",
      "\twith 11144 stored elements and shape (63, 4852)>\n",
      "  Coords\tValues\n",
      "  (0, 4707)\t0.33679675946050375\n",
      "  (0, 4786)\t0.23405820892714999\n",
      "  (0, 1977)\t0.46811641785429997\n",
      "  (0, 836)\t0.0976460028702797\n",
      "  (0, 760)\t0.08556379384036543\n",
      "  (0, 4812)\t0.23405820892714999\n",
      "  (0, 3939)\t0.23405820892714999\n",
      "  (0, 1088)\t0.13206914057774116\n",
      "  (0, 3134)\t0.23405820892714999\n",
      "  (0, 1574)\t0.19772896977463922\n",
      "  (0, 851)\t0.08712844773796874\n",
      "  (0, 1477)\t0.23405820892714999\n",
      "  (0, 1920)\t0.23405820892714999\n",
      "  (0, 2646)\t0.19772896977463922\n",
      "  (0, 3375)\t0.23405820892714999\n",
      "  (0, 232)\t0.21280696634320032\n",
      "  (0, 1573)\t0.23405820892714999\n",
      "  (0, 4471)\t0.13595328858986358\n",
      "  (0, 2094)\t0.14470892947442904\n",
      "  (0, 2938)\t0.0887412523171071\n",
      "  (0, 672)\t0.12845308528910376\n",
      "  (1, 4707)\t0.08891752139102936\n",
      "  (1, 836)\t0.1031178632819928\n",
      "  (1, 760)\t0.0903585946763306\n",
      "  (1, 1088)\t0.06973499775488962\n",
      "  :\t:\n",
      "  (62, 3613)\t0.03272267161125755\n",
      "  (62, 4777)\t0.03272267161125755\n",
      "  (62, 150)\t0.03272267161125755\n",
      "  (62, 1987)\t0.03272267161125755\n",
      "  (62, 2019)\t0.03272267161125755\n",
      "  (62, 1485)\t0.03272267161125755\n",
      "  (62, 4732)\t0.03272267161125755\n",
      "  (62, 1070)\t0.03272267161125755\n",
      "  (62, 506)\t0.03272267161125755\n",
      "  (62, 1412)\t0.03272267161125755\n",
      "  (62, 813)\t0.03272267161125755\n",
      "  (62, 685)\t0.03272267161125755\n",
      "  (62, 907)\t0.03272267161125755\n",
      "  (62, 856)\t0.03272267161125755\n",
      "  (62, 2187)\t0.03272267161125755\n",
      "  (62, 4782)\t0.03272267161125755\n",
      "  (62, 445)\t0.03272267161125755\n",
      "  (62, 2896)\t0.03272267161125755\n",
      "  (62, 1223)\t0.03272267161125755\n",
      "  (62, 3171)\t0.03272267161125755\n",
      "  (62, 1854)\t0.03272267161125755\n",
      "  (62, 4427)\t0.03272267161125755\n",
      "  (62, 2346)\t0.03272267161125755\n",
      "  (62, 3874)\t0.03272267161125755\n",
      "  (62, 1011)\t0.03272267161125755\n"
     ]
    }
   ],
   "execution_count": 37
  },
  {
   "metadata": {
    "ExecuteTime": {
     "end_time": "2025-03-24T03:12:28.973975Z",
     "start_time": "2025-03-24T03:12:28.878317Z"
    }
   },
   "cell_type": "code",
   "source": [
    "print(\"Feature Names n \", top_news_genap_tf_idf_vec.get_feature_names_out())\n",
    "\n",
    "word_count = doc_term_matrix.sum(axis=0)"
   ],
   "id": "dad84906163dc0f2",
   "outputs": [
    {
     "name": "stdout",
     "output_type": "stream",
     "text": [
      "Feature Names n  ['000' '04' '092' ... 'zohran' 'zombie' 'zone']\n"
     ]
    }
   ],
   "execution_count": 38
  },
  {
   "metadata": {
    "ExecuteTime": {
     "end_time": "2025-03-24T03:12:28.989960Z",
     "start_time": "2025-03-24T03:12:28.985182Z"
    }
   },
   "cell_type": "code",
   "source": "print(word_count)",
   "id": "ad26c40d13b52fa3",
   "outputs": [
    {
     "name": "stdout",
     "output_type": "stream",
     "text": [
      "[[17  2  1 ...  1  1  2]]\n"
     ]
    }
   ],
   "execution_count": 39
  },
  {
   "metadata": {
    "ExecuteTime": {
     "end_time": "2025-03-24T03:12:29.011520Z",
     "start_time": "2025-03-24T03:12:29.006228Z"
    }
   },
   "cell_type": "code",
   "source": [
    "top_genap_query1 = top_news_genap['headline_text'][6]\n",
    "top_genap_query1"
   ],
   "id": "bf19c2542c6acca8",
   "outputs": [
    {
     "data": {
      "text/plain": [
       "'On GPS: Getting the world to tackle climate change \\n\\nIn his first TV interview as head of the World Bank, Ajay Banga speaks with Fareed about the need for a global concerted effort to fight climate change. '"
      ]
     },
     "execution_count": 40,
     "metadata": {},
     "output_type": "execute_result"
    }
   ],
   "execution_count": 40
  },
  {
   "metadata": {
    "ExecuteTime": {
     "end_time": "2025-03-24T03:12:29.031694Z",
     "start_time": "2025-03-24T03:12:29.026732Z"
    }
   },
   "cell_type": "code",
   "source": "vec_top_genap_query1 = top_news_genap_tf_idf_vec.transform([top_genap_query1])",
   "id": "89d0ec6a62627ea6",
   "outputs": [],
   "execution_count": 41
  },
  {
   "metadata": {
    "ExecuteTime": {
     "end_time": "2025-03-24T03:12:29.068957Z",
     "start_time": "2025-03-24T03:12:29.064220Z"
    }
   },
   "cell_type": "code",
   "source": "print(vec_top_genap_query1)",
   "id": "96f4e54eb543dbb7",
   "outputs": [
    {
     "name": "stdout",
     "output_type": "stream",
     "text": [
      "<Compressed Sparse Row sparse matrix of dtype 'float64'\n",
      "\twith 19 stored elements and shape (1, 4852)>\n",
      "  Coords\tValues\n",
      "  (0, 265)\t0.27984008098694674\n",
      "  (0, 463)\t0.27984008098694674\n",
      "  (0, 464)\t0.23640482924665412\n",
      "  (0, 760)\t0.2046002069962933\n",
      "  (0, 836)\t0.2334911941479961\n",
      "  (0, 927)\t0.23640482924665412\n",
      "  (0, 1458)\t0.19296957750636154\n",
      "  (0, 1680)\t0.27984008098694674\n",
      "  (0, 1727)\t0.16756158402890706\n",
      "  (0, 1916)\t0.18558884229174513\n",
      "  (0, 1926)\t0.17301404949340043\n",
      "  (0, 1955)\t0.25443208750949214\n",
      "  (0, 2069)\t0.21099683576919964\n",
      "  (0, 2328)\t0.18558884229174513\n",
      "  (0, 2919)\t0.16254580202000363\n",
      "  (0, 4054)\t0.23640482924665412\n",
      "  (0, 4275)\t0.23640482924665412\n",
      "  (0, 4488)\t0.23640482924665412\n",
      "  (0, 4806)\t0.29906865153213796\n"
     ]
    }
   ],
   "execution_count": 42
  },
  {
   "metadata": {
    "ExecuteTime": {
     "end_time": "2025-03-24T03:12:29.081443Z",
     "start_time": "2025-03-24T03:12:29.074985Z"
    }
   },
   "cell_type": "code",
   "source": "query_1_sim = euclidean_distances(vec_top_genap_query1, doc_term_matrix).flatten()",
   "id": "6a8cf8fcc322d917",
   "outputs": [],
   "execution_count": 43
  },
  {
   "metadata": {
    "ExecuteTime": {
     "end_time": "2025-03-24T03:12:29.110716Z",
     "start_time": "2025-03-24T03:12:29.104074Z"
    }
   },
   "cell_type": "code",
   "source": "query_1_sim",
   "id": "b9110f3c3d2dedb2",
   "outputs": [
    {
     "data": {
      "text/plain": [
       "array([ 5.20805311,  9.57337438, 12.63038382,  8.62905326,  8.26121265,\n",
       "       10.79354711,  4.35234141, 11.632125  ,  9.2803412 ,  8.34897189,\n",
       "        7.78765367,  6.84868376,  8.62053766, 10.7353451 ,  9.50639004,\n",
       "       10.79354711,  7.83699125,  4.82158007, 10.24781191,  9.41270699,\n",
       "       10.24781191,  8.75208848, 10.34377   , 10.62630801,  9.55236277,\n",
       "        2.23606798,  2.        ,  2.23606798,  2.23606798,  2.        ,\n",
       "        2.23606798,  2.44948974,  2.44948974,  2.23606798,  2.        ,\n",
       "        2.44948974,  2.44948974,  2.44948974, 21.02379604, 53.12105492,\n",
       "       55.06197317, 53.80001123, 47.37934384, 30.51769575, 32.96968304,\n",
       "       62.15967786, 47.64385068, 63.65200709, 19.77371993, 56.31567229,\n",
       "       53.06655296, 86.93520784, 20.86247548, 48.45460189, 59.49368274,\n",
       "       30.96247581, 37.05391561, 15.32970972, 90.69357345, 62.33943263,\n",
       "       56.90892545, 51.63111851, 45.94470357])"
      ]
     },
     "execution_count": 44,
     "metadata": {},
     "output_type": "execute_result"
    }
   ],
   "execution_count": 44
  }
 ],
 "metadata": {
  "kernelspec": {
   "display_name": "Python 3",
   "language": "python",
   "name": "python3"
  },
  "language_info": {
   "codemirror_mode": {
    "name": "ipython",
    "version": 2
   },
   "file_extension": ".py",
   "mimetype": "text/x-python",
   "name": "python",
   "nbconvert_exporter": "python",
   "pygments_lexer": "ipython2",
   "version": "2.7.6"
  }
 },
 "nbformat": 4,
 "nbformat_minor": 5
}
