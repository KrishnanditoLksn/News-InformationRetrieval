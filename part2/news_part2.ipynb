{
 "cells": [
  {
   "cell_type": "code",
   "id": "initial_id",
   "metadata": {
    "collapsed": true,
    "ExecuteTime": {
     "end_time": "2025-03-10T01:31:48.389970Z",
     "start_time": "2025-03-10T01:31:40.299916Z"
    }
   },
   "source": [
    "import glob\n",
    "import os\n",
    "\n",
    "import nltk\n",
    "import pandas as pd\n",
    "from sklearn.feature_extraction.text import CountVectorizer, TfidfVectorizer\n",
    "from sklearn.metrics.pairwise import euclidean_distances\n",
    "\n",
    "nltk.download('punkt')\n",
    "nltk.download('wordnet')\n",
    "nltk.download('punkt_tab')\n",
    "nltk.download('omw-1.4')\n",
    "\n",
    "news = pd.read_csv('../abcnews-date-text.csv')"
   ],
   "outputs": [
    {
     "name": "stderr",
     "output_type": "stream",
     "text": [
      "[nltk_data] Downloading package punkt to\n",
      "[nltk_data]     C:\\Users\\asus\\AppData\\Roaming\\nltk_data...\n",
      "[nltk_data]   Package punkt is already up-to-date!\n",
      "[nltk_data] Downloading package wordnet to\n",
      "[nltk_data]     C:\\Users\\asus\\AppData\\Roaming\\nltk_data...\n",
      "[nltk_data]   Package wordnet is already up-to-date!\n",
      "[nltk_data] Downloading package punkt_tab to\n",
      "[nltk_data]     C:\\Users\\asus\\AppData\\Roaming\\nltk_data...\n",
      "[nltk_data]   Package punkt_tab is already up-to-date!\n",
      "[nltk_data] Downloading package omw-1.4 to\n",
      "[nltk_data]     C:\\Users\\asus\\AppData\\Roaming\\nltk_data...\n",
      "[nltk_data]   Package omw-1.4 is already up-to-date!\n"
     ]
    }
   ],
   "execution_count": 1
  },
  {
   "metadata": {
    "ExecuteTime": {
     "end_time": "2025-03-10T01:31:48.461732Z",
     "start_time": "2025-03-10T01:31:48.440334Z"
    }
   },
   "cell_type": "code",
   "source": "news",
   "id": "597631a08470a127",
   "outputs": [
    {
     "data": {
      "text/plain": [
       "         publish_date                                      headline_text\n",
       "0            20030219  aba decides against community broadcasting lic...\n",
       "1            20030219     act fire witnesses must be aware of defamation\n",
       "2            20030219     a g calls for infrastructure protection summit\n",
       "3            20030219           air nz staff in aust strike for pay rise\n",
       "4            20030219      air nz strike to affect australian travellers\n",
       "...               ...                                                ...\n",
       "1244179      20211231  two aged care residents die as state records 2...\n",
       "1244180      20211231  victoria records 5;919 new cases and seven deaths\n",
       "1244181      20211231    wa delays adopting new close contact definition\n",
       "1244182      20211231  western ringtail possums found badly dehydrate...\n",
       "1244183      20211231  what makes you a close covid contact here are ...\n",
       "\n",
       "[1244184 rows x 2 columns]"
      ],
      "text/html": [
       "<div>\n",
       "<style scoped>\n",
       "    .dataframe tbody tr th:only-of-type {\n",
       "        vertical-align: middle;\n",
       "    }\n",
       "\n",
       "    .dataframe tbody tr th {\n",
       "        vertical-align: top;\n",
       "    }\n",
       "\n",
       "    .dataframe thead th {\n",
       "        text-align: right;\n",
       "    }\n",
       "</style>\n",
       "<table border=\"1\" class=\"dataframe\">\n",
       "  <thead>\n",
       "    <tr style=\"text-align: right;\">\n",
       "      <th></th>\n",
       "      <th>publish_date</th>\n",
       "      <th>headline_text</th>\n",
       "    </tr>\n",
       "  </thead>\n",
       "  <tbody>\n",
       "    <tr>\n",
       "      <th>0</th>\n",
       "      <td>20030219</td>\n",
       "      <td>aba decides against community broadcasting lic...</td>\n",
       "    </tr>\n",
       "    <tr>\n",
       "      <th>1</th>\n",
       "      <td>20030219</td>\n",
       "      <td>act fire witnesses must be aware of defamation</td>\n",
       "    </tr>\n",
       "    <tr>\n",
       "      <th>2</th>\n",
       "      <td>20030219</td>\n",
       "      <td>a g calls for infrastructure protection summit</td>\n",
       "    </tr>\n",
       "    <tr>\n",
       "      <th>3</th>\n",
       "      <td>20030219</td>\n",
       "      <td>air nz staff in aust strike for pay rise</td>\n",
       "    </tr>\n",
       "    <tr>\n",
       "      <th>4</th>\n",
       "      <td>20030219</td>\n",
       "      <td>air nz strike to affect australian travellers</td>\n",
       "    </tr>\n",
       "    <tr>\n",
       "      <th>...</th>\n",
       "      <td>...</td>\n",
       "      <td>...</td>\n",
       "    </tr>\n",
       "    <tr>\n",
       "      <th>1244179</th>\n",
       "      <td>20211231</td>\n",
       "      <td>two aged care residents die as state records 2...</td>\n",
       "    </tr>\n",
       "    <tr>\n",
       "      <th>1244180</th>\n",
       "      <td>20211231</td>\n",
       "      <td>victoria records 5;919 new cases and seven deaths</td>\n",
       "    </tr>\n",
       "    <tr>\n",
       "      <th>1244181</th>\n",
       "      <td>20211231</td>\n",
       "      <td>wa delays adopting new close contact definition</td>\n",
       "    </tr>\n",
       "    <tr>\n",
       "      <th>1244182</th>\n",
       "      <td>20211231</td>\n",
       "      <td>western ringtail possums found badly dehydrate...</td>\n",
       "    </tr>\n",
       "    <tr>\n",
       "      <th>1244183</th>\n",
       "      <td>20211231</td>\n",
       "      <td>what makes you a close covid contact here are ...</td>\n",
       "    </tr>\n",
       "  </tbody>\n",
       "</table>\n",
       "<p>1244184 rows × 2 columns</p>\n",
       "</div>"
      ]
     },
     "execution_count": 2,
     "metadata": {},
     "output_type": "execute_result"
    }
   ],
   "execution_count": 2
  },
  {
   "metadata": {
    "ExecuteTime": {
     "end_time": "2025-03-10T01:31:49.188478Z",
     "start_time": "2025-03-10T01:31:49.155579Z"
    }
   },
   "cell_type": "code",
   "source": [
    "folder_path = '../docs/'\n",
    "columns = ['headline_text']\n",
    "all_datas = []\n",
    "for filename in glob.glob(os.path.join(folder_path, '**', '*.txt'), recursive=True):\n",
    "    with open(filename, 'r') as f:\n",
    "        text = f.read()\n",
    "        datas = pd.DataFrame([[text]], columns=columns)\n",
    "        all_datas.append(datas)\n",
    "        print(datas)\n"
   ],
   "id": "4aef055bc0d1cdba",
   "outputs": [
    {
     "name": "stdout",
     "output_type": "stream",
     "text": [
      "                           headline_text\n",
      "0  decid against commun broadcast licenc\n",
      "                       headline_text\n",
      "0  call infrastructur protect summit\n",
      "                         headline_text\n",
      "0  busi should prepar terrorist attack\n",
      "                   headline_text\n",
      "0  call ethanol blend fuel ahead\n",
      "        headline_text\n",
      "0  cemeteri miss fund\n",
      "                     headline_text\n",
      "0  strike affect australian travel\n",
      "                           headline_text\n",
      "0  antic delight with record break barca\n",
      "                          headline_text\n",
      "0  aust address secur council over iraq\n",
      "                      headline_text\n",
      "0  australia contribut million iraq\n",
      "              headline_text\n",
      "0  bathhous plan move ahead\n",
      "                   headline_text\n",
      "0  plan boost paroo water suppli\n",
      "                         headline_text\n",
      "0  brigadi dismiss report troop harass\n",
      "                     headline_text\n",
      "0  bryant lead laker doubl overtim\n"
     ]
    }
   ],
   "execution_count": 3
  },
  {
   "metadata": {
    "ExecuteTime": {
     "end_time": "2025-03-10T01:31:49.340958Z",
     "start_time": "2025-03-10T01:31:49.335344Z"
    }
   },
   "cell_type": "code",
   "source": [
    "\n",
    "df = pd.concat(all_datas, ignore_index=True)\n",
    "print(df)"
   ],
   "id": "457e20221187bdc",
   "outputs": [
    {
     "name": "stdout",
     "output_type": "stream",
     "text": [
      "                            headline_text\n",
      "0   decid against commun broadcast licenc\n",
      "1       call infrastructur protect summit\n",
      "2     busi should prepar terrorist attack\n",
      "3           call ethanol blend fuel ahead\n",
      "4                      cemeteri miss fund\n",
      "5         strike affect australian travel\n",
      "6   antic delight with record break barca\n",
      "7    aust address secur council over iraq\n",
      "8        australia contribut million iraq\n",
      "9                bathhous plan move ahead\n",
      "10          plan boost paroo water suppli\n",
      "11    brigadi dismiss report troop harass\n",
      "12        bryant lead laker doubl overtim\n"
     ]
    }
   ],
   "execution_count": 4
  },
  {
   "metadata": {
    "ExecuteTime": {
     "end_time": "2025-03-10T01:31:49.484084Z",
     "start_time": "2025-03-10T01:31:49.472751Z"
    }
   },
   "cell_type": "code",
   "source": "df.to_csv('top_25_news_genap.csv', index=False)",
   "id": "5fdceb118c3f640d",
   "outputs": [],
   "execution_count": 5
  },
  {
   "metadata": {
    "ExecuteTime": {
     "end_time": "2025-03-10T01:31:49.579865Z",
     "start_time": "2025-03-10T01:31:49.573348Z"
    }
   },
   "cell_type": "code",
   "source": "top_news_genap = pd.read_csv('top_25_news_genap.csv')",
   "id": "39289da0161b15b7",
   "outputs": [],
   "execution_count": 6
  },
  {
   "metadata": {
    "ExecuteTime": {
     "end_time": "2025-03-10T01:31:54.429730Z",
     "start_time": "2025-03-10T01:31:54.420160Z"
    }
   },
   "cell_type": "code",
   "source": "top_news_genap",
   "id": "b005f03b38863d46",
   "outputs": [
    {
     "data": {
      "text/plain": [
       "                            headline_text\n",
       "0   decid against commun broadcast licenc\n",
       "1       call infrastructur protect summit\n",
       "2     busi should prepar terrorist attack\n",
       "3           call ethanol blend fuel ahead\n",
       "4                      cemeteri miss fund\n",
       "5         strike affect australian travel\n",
       "6   antic delight with record break barca\n",
       "7    aust address secur council over iraq\n",
       "8        australia contribut million iraq\n",
       "9                bathhous plan move ahead\n",
       "10          plan boost paroo water suppli\n",
       "11    brigadi dismiss report troop harass\n",
       "12        bryant lead laker doubl overtim"
      ],
      "text/html": [
       "<div>\n",
       "<style scoped>\n",
       "    .dataframe tbody tr th:only-of-type {\n",
       "        vertical-align: middle;\n",
       "    }\n",
       "\n",
       "    .dataframe tbody tr th {\n",
       "        vertical-align: top;\n",
       "    }\n",
       "\n",
       "    .dataframe thead th {\n",
       "        text-align: right;\n",
       "    }\n",
       "</style>\n",
       "<table border=\"1\" class=\"dataframe\">\n",
       "  <thead>\n",
       "    <tr style=\"text-align: right;\">\n",
       "      <th></th>\n",
       "      <th>headline_text</th>\n",
       "    </tr>\n",
       "  </thead>\n",
       "  <tbody>\n",
       "    <tr>\n",
       "      <th>0</th>\n",
       "      <td>decid against commun broadcast licenc</td>\n",
       "    </tr>\n",
       "    <tr>\n",
       "      <th>1</th>\n",
       "      <td>call infrastructur protect summit</td>\n",
       "    </tr>\n",
       "    <tr>\n",
       "      <th>2</th>\n",
       "      <td>busi should prepar terrorist attack</td>\n",
       "    </tr>\n",
       "    <tr>\n",
       "      <th>3</th>\n",
       "      <td>call ethanol blend fuel ahead</td>\n",
       "    </tr>\n",
       "    <tr>\n",
       "      <th>4</th>\n",
       "      <td>cemeteri miss fund</td>\n",
       "    </tr>\n",
       "    <tr>\n",
       "      <th>5</th>\n",
       "      <td>strike affect australian travel</td>\n",
       "    </tr>\n",
       "    <tr>\n",
       "      <th>6</th>\n",
       "      <td>antic delight with record break barca</td>\n",
       "    </tr>\n",
       "    <tr>\n",
       "      <th>7</th>\n",
       "      <td>aust address secur council over iraq</td>\n",
       "    </tr>\n",
       "    <tr>\n",
       "      <th>8</th>\n",
       "      <td>australia contribut million iraq</td>\n",
       "    </tr>\n",
       "    <tr>\n",
       "      <th>9</th>\n",
       "      <td>bathhous plan move ahead</td>\n",
       "    </tr>\n",
       "    <tr>\n",
       "      <th>10</th>\n",
       "      <td>plan boost paroo water suppli</td>\n",
       "    </tr>\n",
       "    <tr>\n",
       "      <th>11</th>\n",
       "      <td>brigadi dismiss report troop harass</td>\n",
       "    </tr>\n",
       "    <tr>\n",
       "      <th>12</th>\n",
       "      <td>bryant lead laker doubl overtim</td>\n",
       "    </tr>\n",
       "  </tbody>\n",
       "</table>\n",
       "</div>"
      ]
     },
     "execution_count": 7,
     "metadata": {},
     "output_type": "execute_result"
    }
   ],
   "execution_count": 7
  },
  {
   "metadata": {
    "ExecuteTime": {
     "end_time": "2025-03-10T01:31:54.761154Z",
     "start_time": "2025-03-10T01:31:54.756163Z"
    }
   },
   "cell_type": "code",
   "source": "top_news_genap.insert(0, \"doc_id\", range(1, 1 + len(top_news_genap)))",
   "id": "e4d22bdf883c6c07",
   "outputs": [],
   "execution_count": 8
  },
  {
   "metadata": {
    "ExecuteTime": {
     "end_time": "2025-03-10T01:31:54.963237Z",
     "start_time": "2025-03-10T01:31:54.953687Z"
    }
   },
   "cell_type": "code",
   "source": "top_news_genap['headline_text']",
   "id": "810fa6e09691ee4c",
   "outputs": [
    {
     "data": {
      "text/plain": [
       "0     decid against commun broadcast licenc\n",
       "1         call infrastructur protect summit\n",
       "2       busi should prepar terrorist attack\n",
       "3             call ethanol blend fuel ahead\n",
       "4                        cemeteri miss fund\n",
       "5           strike affect australian travel\n",
       "6     antic delight with record break barca\n",
       "7      aust address secur council over iraq\n",
       "8          australia contribut million iraq\n",
       "9                  bathhous plan move ahead\n",
       "10            plan boost paroo water suppli\n",
       "11      brigadi dismiss report troop harass\n",
       "12          bryant lead laker doubl overtim\n",
       "Name: headline_text, dtype: object"
      ]
     },
     "execution_count": 9,
     "metadata": {},
     "output_type": "execute_result"
    }
   ],
   "execution_count": 9
  },
  {
   "metadata": {
    "ExecuteTime": {
     "end_time": "2025-03-10T01:31:55.268439Z",
     "start_time": "2025-03-10T01:31:55.261782Z"
    }
   },
   "cell_type": "code",
   "source": [
    "count_vectorizerd = CountVectorizer(stop_words='english')\n",
    "doc_term_matrix = count_vectorizerd.fit_transform(top_news_genap['headline_text'])"
   ],
   "id": "7e951219af0fc43a",
   "outputs": [],
   "execution_count": 10
  },
  {
   "metadata": {
    "ExecuteTime": {
     "end_time": "2025-03-10T01:31:55.478414Z",
     "start_time": "2025-03-10T01:31:55.472500Z"
    }
   },
   "cell_type": "code",
   "source": "doc_term_matrix.shape",
   "id": "aab416d1a87b0cd3",
   "outputs": [
    {
     "data": {
      "text/plain": [
       "(13, 51)"
      ]
     },
     "execution_count": 11,
     "metadata": {},
     "output_type": "execute_result"
    }
   ],
   "execution_count": 11
  },
  {
   "metadata": {
    "ExecuteTime": {
     "end_time": "2025-03-10T01:31:55.724603Z",
     "start_time": "2025-03-10T01:31:55.715144Z"
    }
   },
   "cell_type": "code",
   "source": [
    "top_news_genap_tf_idf_vec = TfidfVectorizer(stop_words='english',\n",
    "                                            max_features=5000)\n",
    "document_term_matrixed_tf_idf = top_news_genap_tf_idf_vec.fit_transform(top_news_genap['headline_text'])"
   ],
   "id": "2b141ac9cf343d98",
   "outputs": [],
   "execution_count": 12
  },
  {
   "metadata": {
    "ExecuteTime": {
     "end_time": "2025-03-10T01:31:55.847661Z",
     "start_time": "2025-03-10T01:31:55.843990Z"
    }
   },
   "cell_type": "code",
   "source": "print(document_term_matrixed_tf_idf)",
   "id": "ef6bcf7a57670417",
   "outputs": [
    {
     "name": "stdout",
     "output_type": "stream",
     "text": [
      "<Compressed Sparse Row sparse matrix of dtype 'float64'\n",
      "\twith 54 stored elements and shape (13, 51)>\n",
      "  Coords\tValues\n",
      "  (0, 21)\t0.5\n",
      "  (0, 18)\t0.5\n",
      "  (0, 14)\t0.5\n",
      "  (0, 33)\t0.5\n",
      "  (1, 29)\t0.5773502691896258\n",
      "  (1, 40)\t0.5773502691896258\n",
      "  (1, 45)\t0.5773502691896258\n",
      "  (2, 16)\t0.5\n",
      "  (2, 39)\t0.5\n",
      "  (2, 47)\t0.5\n",
      "  (2, 4)\t0.5\n",
      "  (3, 25)\t0.5168341301031996\n",
      "  (3, 10)\t0.5168341301031996\n",
      "  (3, 26)\t0.5168341301031996\n",
      "  (3, 2)\t0.4456988286740356\n",
      "  (4, 17)\t0.5773502691896258\n",
      "  (4, 35)\t0.5773502691896258\n",
      "  (4, 27)\t0.5773502691896258\n",
      "  (5, 44)\t0.5\n",
      "  (5, 1)\t0.5\n",
      "  (5, 7)\t0.5\n",
      "  (5, 48)\t0.5\n",
      "  (6, 3)\t0.447213595499958\n",
      "  (6, 22)\t0.447213595499958\n",
      "  (6, 41)\t0.447213595499958\n",
      "  :\t:\n",
      "  (7, 43)\t0.4591374710855959\n",
      "  (7, 20)\t0.4591374710855959\n",
      "  (7, 30)\t0.39594334263944175\n",
      "  (8, 30)\t0.4456988286740356\n",
      "  (8, 6)\t0.5168341301031996\n",
      "  (8, 19)\t0.5168341301031996\n",
      "  (8, 34)\t0.5168341301031996\n",
      "  (9, 2)\t0.5467925956367323\n",
      "  (9, 9)\t0.6340628633768814\n",
      "  (9, 38)\t0.5467925956367323\n",
      "  (10, 38)\t0.39594334263944175\n",
      "  (10, 11)\t0.4591374710855959\n",
      "  (10, 37)\t0.4591374710855959\n",
      "  (10, 50)\t0.4591374710855959\n",
      "  (10, 46)\t0.4591374710855959\n",
      "  (11, 13)\t0.447213595499958\n",
      "  (11, 23)\t0.447213595499958\n",
      "  (11, 42)\t0.447213595499958\n",
      "  (11, 49)\t0.447213595499958\n",
      "  (11, 28)\t0.447213595499958\n",
      "  (12, 15)\t0.447213595499958\n",
      "  (12, 32)\t0.447213595499958\n",
      "  (12, 31)\t0.447213595499958\n",
      "  (12, 24)\t0.447213595499958\n",
      "  (12, 36)\t0.447213595499958\n"
     ]
    }
   ],
   "execution_count": 13
  },
  {
   "metadata": {
    "ExecuteTime": {
     "end_time": "2025-03-10T01:31:55.940636Z",
     "start_time": "2025-03-10T01:31:55.935039Z"
    }
   },
   "cell_type": "code",
   "source": [
    "print(\"Feature Names n \", top_news_genap_tf_idf_vec.get_feature_names_out())\n",
    "\n",
    "word_count = doc_term_matrix.sum(axis=0)"
   ],
   "id": "dad84906163dc0f2",
   "outputs": [
    {
     "name": "stdout",
     "output_type": "stream",
     "text": [
      "Feature Names n  ['address' 'affect' 'ahead' 'antic' 'attack' 'aust' 'australia'\n",
      " 'australian' 'barca' 'bathhous' 'blend' 'boost' 'break' 'brigadi'\n",
      " 'broadcast' 'bryant' 'busi' 'cemeteri' 'commun' 'contribut' 'council'\n",
      " 'decid' 'delight' 'dismiss' 'doubl' 'ethanol' 'fuel' 'fund' 'harass'\n",
      " 'infrastructur' 'iraq' 'laker' 'lead' 'licenc' 'million' 'miss' 'overtim'\n",
      " 'paroo' 'plan' 'prepar' 'protect' 'record' 'report' 'secur' 'strike'\n",
      " 'summit' 'suppli' 'terrorist' 'travel' 'troop' 'water']\n"
     ]
    }
   ],
   "execution_count": 14
  },
  {
   "metadata": {
    "ExecuteTime": {
     "end_time": "2025-03-10T01:31:55.994283Z",
     "start_time": "2025-03-10T01:31:55.990201Z"
    }
   },
   "cell_type": "code",
   "source": "print(word_count)",
   "id": "ad26c40d13b52fa3",
   "outputs": [
    {
     "name": "stdout",
     "output_type": "stream",
     "text": [
      "[[1 1 2 1 1 1 1 1 1 1 1 1 1 1 1 1 1 1 1 1 1 1 1 1 1 1 1 1 1 1 2 1 1 1 1 1\n",
      "  1 1 2 1 1 1 1 1 1 1 1 1 1 1 1]]\n"
     ]
    }
   ],
   "execution_count": 15
  },
  {
   "metadata": {
    "ExecuteTime": {
     "end_time": "2025-03-10T01:31:56.239151Z",
     "start_time": "2025-03-10T01:31:56.232820Z"
    }
   },
   "cell_type": "code",
   "source": [
    "top_genap_query1 = top_news_genap['headline_text'][6]\n",
    "top_genap_query1"
   ],
   "id": "bf19c2542c6acca8",
   "outputs": [
    {
     "data": {
      "text/plain": [
       "'antic delight with record break barca'"
      ]
     },
     "execution_count": 16,
     "metadata": {},
     "output_type": "execute_result"
    }
   ],
   "execution_count": 16
  },
  {
   "metadata": {
    "ExecuteTime": {
     "end_time": "2025-03-10T01:31:56.328693Z",
     "start_time": "2025-03-10T01:31:56.324138Z"
    }
   },
   "cell_type": "code",
   "source": "vec_top_genap_query1 = top_news_genap_tf_idf_vec.transform([top_genap_query1])",
   "id": "89d0ec6a62627ea6",
   "outputs": [],
   "execution_count": 17
  },
  {
   "metadata": {
    "ExecuteTime": {
     "end_time": "2025-03-10T01:31:56.383993Z",
     "start_time": "2025-03-10T01:31:56.378515Z"
    }
   },
   "cell_type": "code",
   "source": "print(vec_top_genap_query1)",
   "id": "96f4e54eb543dbb7",
   "outputs": [
    {
     "name": "stdout",
     "output_type": "stream",
     "text": [
      "<Compressed Sparse Row sparse matrix of dtype 'float64'\n",
      "\twith 5 stored elements and shape (1, 51)>\n",
      "  Coords\tValues\n",
      "  (0, 3)\t0.447213595499958\n",
      "  (0, 8)\t0.447213595499958\n",
      "  (0, 12)\t0.447213595499958\n",
      "  (0, 22)\t0.447213595499958\n",
      "  (0, 41)\t0.447213595499958\n"
     ]
    }
   ],
   "execution_count": 18
  },
  {
   "metadata": {
    "ExecuteTime": {
     "end_time": "2025-03-10T01:31:56.448251Z",
     "start_time": "2025-03-10T01:31:56.443625Z"
    }
   },
   "cell_type": "code",
   "source": "query_1_sim = euclidean_distances(vec_top_genap_query1, doc_term_matrix).flatten()",
   "id": "6a8cf8fcc322d917",
   "outputs": [],
   "execution_count": 19
  },
  {
   "metadata": {
    "ExecuteTime": {
     "end_time": "2025-03-10T01:31:56.508038Z",
     "start_time": "2025-03-10T01:31:56.502835Z"
    }
   },
   "cell_type": "code",
   "source": "query_1_sim",
   "id": "b9110f3c3d2dedb2",
   "outputs": [
    {
     "data": {
      "text/plain": [
       "array([2.23606798, 2.        , 2.23606798, 2.23606798, 2.        ,\n",
       "       2.23606798, 1.23606798, 2.44948974, 2.23606798, 2.        ,\n",
       "       2.44948974, 2.44948974, 2.44948974])"
      ]
     },
     "execution_count": 20,
     "metadata": {},
     "output_type": "execute_result"
    }
   ],
   "execution_count": 20
  },
  {
   "metadata": {
    "ExecuteTime": {
     "end_time": "2025-03-10T01:31:56.556742Z",
     "start_time": "2025-03-10T01:31:56.554337Z"
    }
   },
   "cell_type": "code",
   "source": "",
   "id": "2891ad1d3e3f89ae",
   "outputs": [],
   "execution_count": null
  }
 ],
 "metadata": {
  "kernelspec": {
   "display_name": "Python 3",
   "language": "python",
   "name": "python3"
  },
  "language_info": {
   "codemirror_mode": {
    "name": "ipython",
    "version": 2
   },
   "file_extension": ".py",
   "mimetype": "text/x-python",
   "name": "python",
   "nbconvert_exporter": "python",
   "pygments_lexer": "ipython2",
   "version": "2.7.6"
  }
 },
 "nbformat": 4,
 "nbformat_minor": 5
}
